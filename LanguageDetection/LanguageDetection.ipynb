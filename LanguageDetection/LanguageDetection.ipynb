{
 "cells": [
  {
   "cell_type": "markdown",
   "metadata": {},
   "source": [
    "# Language Detection ML Project\n",
    "Isabella Sturm\n",
    "\n",
    "2022-02-17"
   ]
  },
  {
   "cell_type": "code",
   "execution_count": 1,
   "metadata": {},
   "outputs": [],
   "source": [
    "# Import packages\n",
    "import pandas as pd\n",
    "import matplotlib.pyplot as plt"
   ]
  },
  {
   "cell_type": "code",
   "execution_count": 2,
   "metadata": {},
   "outputs": [
    {
     "data": {
      "text/html": [
       "<div>\n",
       "<style scoped>\n",
       "    .dataframe tbody tr th:only-of-type {\n",
       "        vertical-align: middle;\n",
       "    }\n",
       "\n",
       "    .dataframe tbody tr th {\n",
       "        vertical-align: top;\n",
       "    }\n",
       "\n",
       "    .dataframe thead th {\n",
       "        text-align: right;\n",
       "    }\n",
       "</style>\n",
       "<table border=\"1\" class=\"dataframe\">\n",
       "  <thead>\n",
       "    <tr style=\"text-align: right;\">\n",
       "      <th></th>\n",
       "      <th>Index</th>\n",
       "      <th>Code</th>\n",
       "      <th>Sentence</th>\n",
       "    </tr>\n",
       "  </thead>\n",
       "  <tbody>\n",
       "    <tr>\n",
       "      <th>0</th>\n",
       "      <td>1</td>\n",
       "      <td>cmn</td>\n",
       "      <td>我們試試看！</td>\n",
       "    </tr>\n",
       "    <tr>\n",
       "      <th>1</th>\n",
       "      <td>2</td>\n",
       "      <td>cmn</td>\n",
       "      <td>我该去睡觉了。</td>\n",
       "    </tr>\n",
       "    <tr>\n",
       "      <th>2</th>\n",
       "      <td>3</td>\n",
       "      <td>cmn</td>\n",
       "      <td>你在干什麼啊？</td>\n",
       "    </tr>\n",
       "    <tr>\n",
       "      <th>3</th>\n",
       "      <td>4</td>\n",
       "      <td>cmn</td>\n",
       "      <td>這是什麼啊？</td>\n",
       "    </tr>\n",
       "    <tr>\n",
       "      <th>4</th>\n",
       "      <td>5</td>\n",
       "      <td>cmn</td>\n",
       "      <td>今天是６月１８号，也是Muiriel的生日！</td>\n",
       "    </tr>\n",
       "  </tbody>\n",
       "</table>\n",
       "</div>"
      ],
      "text/plain": [
       "   Index Code                Sentence\n",
       "0      1  cmn                  我們試試看！\n",
       "1      2  cmn                 我该去睡觉了。\n",
       "2      3  cmn                 你在干什麼啊？\n",
       "3      4  cmn                  這是什麼啊？\n",
       "4      5  cmn  今天是６月１８号，也是Muiriel的生日！"
      ]
     },
     "execution_count": 2,
     "metadata": {},
     "output_type": "execute_result"
    }
   ],
   "source": [
    "# Load sentence data\n",
    "all_languages_df = pd.read_csv('sentences.csv', '\\t', names=['Index','Code','Sentence'])\n",
    "all_languages_df.head()"
   ]
  },
  {
   "cell_type": "code",
   "execution_count": 3,
   "metadata": {},
   "outputs": [
    {
     "data": {
      "text/html": [
       "<div>\n",
       "<style scoped>\n",
       "    .dataframe tbody tr th:only-of-type {\n",
       "        vertical-align: middle;\n",
       "    }\n",
       "\n",
       "    .dataframe tbody tr th {\n",
       "        vertical-align: top;\n",
       "    }\n",
       "\n",
       "    .dataframe thead th {\n",
       "        text-align: right;\n",
       "    }\n",
       "</style>\n",
       "<table border=\"1\" class=\"dataframe\">\n",
       "  <thead>\n",
       "    <tr style=\"text-align: right;\">\n",
       "      <th></th>\n",
       "      <th>Id</th>\n",
       "      <th>Scope</th>\n",
       "      <th>Language_Type</th>\n",
       "      <th>Ref_Name</th>\n",
       "    </tr>\n",
       "  </thead>\n",
       "  <tbody>\n",
       "    <tr>\n",
       "      <th>0</th>\n",
       "      <td>aaa</td>\n",
       "      <td>I</td>\n",
       "      <td>L</td>\n",
       "      <td>Ghotuo</td>\n",
       "    </tr>\n",
       "    <tr>\n",
       "      <th>1</th>\n",
       "      <td>aab</td>\n",
       "      <td>I</td>\n",
       "      <td>L</td>\n",
       "      <td>Alumu-Tesu</td>\n",
       "    </tr>\n",
       "    <tr>\n",
       "      <th>2</th>\n",
       "      <td>aac</td>\n",
       "      <td>I</td>\n",
       "      <td>L</td>\n",
       "      <td>Ari</td>\n",
       "    </tr>\n",
       "    <tr>\n",
       "      <th>3</th>\n",
       "      <td>aad</td>\n",
       "      <td>I</td>\n",
       "      <td>L</td>\n",
       "      <td>Amal</td>\n",
       "    </tr>\n",
       "    <tr>\n",
       "      <th>4</th>\n",
       "      <td>aae</td>\n",
       "      <td>I</td>\n",
       "      <td>L</td>\n",
       "      <td>Arbëreshë Albanian</td>\n",
       "    </tr>\n",
       "  </tbody>\n",
       "</table>\n",
       "</div>"
      ],
      "text/plain": [
       "    Id Scope Language_Type            Ref_Name\n",
       "0  aaa     I             L              Ghotuo\n",
       "1  aab     I             L          Alumu-Tesu\n",
       "2  aac     I             L                 Ari\n",
       "3  aad     I             L                Amal\n",
       "4  aae     I             L  Arbëreshë Albanian"
      ]
     },
     "execution_count": 3,
     "metadata": {},
     "output_type": "execute_result"
    }
   ],
   "source": [
    "# Load language codes\n",
    "lang_codes_df = pd.read_csv('iso-639-3.tab', '\\t')\n",
    "lang_codes_df = lang_codes_df.drop(['Part2B','Part2T', 'Part1','Comment'], axis=1)\n",
    "lang_codes_df.head()"
   ]
  },
  {
   "cell_type": "code",
   "execution_count": 4,
   "metadata": {},
   "outputs": [],
   "source": [
    "# Top 25 languages, per farandwide.com\n",
    "top_languages = ['English',\n",
    "                 'Mandarin Chinese',\n",
    "                 'Spanish',\n",
    "                 'Hindi',\n",
    "                 'Arabic',\n",
    "                 'Malay',\n",
    "                 'Russian',\n",
    "                 'Bengali',\n",
    "                 'Portuguese',\n",
    "                 'French',\n",
    "                 'Hausa',\n",
    "                 'Punjabi',\n",
    "                 'German',\n",
    "                 'Japanese',\n",
    "                 'Persian',\n",
    "                 'Swahili',\n",
    "                 'Vietnamese',\n",
    "                 'Telugu',\n",
    "                 'Italian',\n",
    "                 'Javanese',\n",
    "                 'Wu Chinese',\n",
    "                 'Korean',\n",
    "                 'Tamil',\n",
    "                 'Marathi',\n",
    "                 'Yue Chinese']"
   ]
  },
  {
   "cell_type": "code",
   "execution_count": 5,
   "metadata": {},
   "outputs": [
    {
     "data": {
      "text/html": [
       "<div>\n",
       "<style scoped>\n",
       "    .dataframe tbody tr th:only-of-type {\n",
       "        vertical-align: middle;\n",
       "    }\n",
       "\n",
       "    .dataframe tbody tr th {\n",
       "        vertical-align: top;\n",
       "    }\n",
       "\n",
       "    .dataframe thead th {\n",
       "        text-align: right;\n",
       "    }\n",
       "</style>\n",
       "<table border=\"1\" class=\"dataframe\">\n",
       "  <thead>\n",
       "    <tr style=\"text-align: right;\">\n",
       "      <th></th>\n",
       "      <th>index</th>\n",
       "      <th>Index</th>\n",
       "      <th>Sentence</th>\n",
       "      <th>Scope</th>\n",
       "      <th>Language_Type</th>\n",
       "      <th>Ref_Name</th>\n",
       "    </tr>\n",
       "  </thead>\n",
       "  <tbody>\n",
       "    <tr>\n",
       "      <th>0</th>\n",
       "      <td>\\N</td>\n",
       "      <td>988328</td>\n",
       "      <td>.</td>\n",
       "      <td>NaN</td>\n",
       "      <td>NaN</td>\n",
       "      <td>NaN</td>\n",
       "    </tr>\n",
       "    <tr>\n",
       "      <th>1</th>\n",
       "      <td>\\N</td>\n",
       "      <td>5412581</td>\n",
       "      <td>Selâmetle.</td>\n",
       "      <td>NaN</td>\n",
       "      <td>NaN</td>\n",
       "      <td>NaN</td>\n",
       "    </tr>\n",
       "    <tr>\n",
       "      <th>2</th>\n",
       "      <td>\\N</td>\n",
       "      <td>5716114</td>\n",
       "      <td>Äänilani</td>\n",
       "      <td>NaN</td>\n",
       "      <td>NaN</td>\n",
       "      <td>NaN</td>\n",
       "    </tr>\n",
       "    <tr>\n",
       "      <th>3</th>\n",
       "      <td>\\N</td>\n",
       "      <td>6473120</td>\n",
       "      <td>Sābuku mamayamin, niyaꞋ takiteku manaꞋul magla...</td>\n",
       "      <td>NaN</td>\n",
       "      <td>NaN</td>\n",
       "      <td>NaN</td>\n",
       "    </tr>\n",
       "    <tr>\n",
       "      <th>4</th>\n",
       "      <td>\\N</td>\n",
       "      <td>6481359</td>\n",
       "      <td>Kataau kano koson i Ama' min pana mataau!</td>\n",
       "      <td>NaN</td>\n",
       "      <td>NaN</td>\n",
       "      <td>NaN</td>\n",
       "    </tr>\n",
       "  </tbody>\n",
       "</table>\n",
       "</div>"
      ],
      "text/plain": [
       "  index    Index                                           Sentence Scope  \\\n",
       "0    \\N   988328                                                  .   NaN   \n",
       "1    \\N  5412581                                         Selâmetle.   NaN   \n",
       "2    \\N  5716114                                           Äänilani   NaN   \n",
       "3    \\N  6473120  Sābuku mamayamin, niyaꞋ takiteku manaꞋul magla...   NaN   \n",
       "4    \\N  6481359          Kataau kano koson i Ama' min pana mataau!   NaN   \n",
       "\n",
       "  Language_Type Ref_Name  \n",
       "0           NaN      NaN  \n",
       "1           NaN      NaN  \n",
       "2           NaN      NaN  \n",
       "3           NaN      NaN  \n",
       "4           NaN      NaN  "
      ]
     },
     "execution_count": 5,
     "metadata": {},
     "output_type": "execute_result"
    }
   ],
   "source": [
    "# Join language codes with the languages/sentences dataframe\n",
    "all_languages_codes_df = all_languages_df.set_index('Code').join(lang_codes_df.set_index('Id')).reset_index()\n",
    "all_languages_codes_df.head()\n"
   ]
  },
  {
   "cell_type": "code",
   "execution_count": 6,
   "metadata": {},
   "outputs": [
    {
     "data": {
      "text/html": [
       "<div>\n",
       "<style scoped>\n",
       "    .dataframe tbody tr th:only-of-type {\n",
       "        vertical-align: middle;\n",
       "    }\n",
       "\n",
       "    .dataframe tbody tr th {\n",
       "        vertical-align: top;\n",
       "    }\n",
       "\n",
       "    .dataframe thead th {\n",
       "        text-align: right;\n",
       "    }\n",
       "</style>\n",
       "<table border=\"1\" class=\"dataframe\">\n",
       "  <thead>\n",
       "    <tr style=\"text-align: right;\">\n",
       "      <th></th>\n",
       "      <th>index</th>\n",
       "      <th>Index</th>\n",
       "      <th>Sentence</th>\n",
       "      <th>Scope</th>\n",
       "      <th>Language_Type</th>\n",
       "      <th>Ref_Name</th>\n",
       "    </tr>\n",
       "  </thead>\n",
       "  <tbody>\n",
       "    <tr>\n",
       "      <th>5859</th>\n",
       "      <td>ara</td>\n",
       "      <td>331919</td>\n",
       "      <td>ويل للكافرين</td>\n",
       "      <td>M</td>\n",
       "      <td>L</td>\n",
       "      <td>Arabic</td>\n",
       "    </tr>\n",
       "    <tr>\n",
       "      <th>5860</th>\n",
       "      <td>ara</td>\n",
       "      <td>332182</td>\n",
       "      <td>متى أنشئت هذه الجامعة؟</td>\n",
       "      <td>M</td>\n",
       "      <td>L</td>\n",
       "      <td>Arabic</td>\n",
       "    </tr>\n",
       "    <tr>\n",
       "      <th>5861</th>\n",
       "      <td>ara</td>\n",
       "      <td>332186</td>\n",
       "      <td>أراها نادراً</td>\n",
       "      <td>M</td>\n",
       "      <td>L</td>\n",
       "      <td>Arabic</td>\n",
       "    </tr>\n",
       "    <tr>\n",
       "      <th>5862</th>\n",
       "      <td>ara</td>\n",
       "      <td>332187</td>\n",
       "      <td>يعزف على البيانو بشكل جيد جداً</td>\n",
       "      <td>M</td>\n",
       "      <td>L</td>\n",
       "      <td>Arabic</td>\n",
       "    </tr>\n",
       "    <tr>\n",
       "      <th>5863</th>\n",
       "      <td>ara</td>\n",
       "      <td>332191</td>\n",
       "      <td>مع كل احترامي.</td>\n",
       "      <td>M</td>\n",
       "      <td>L</td>\n",
       "      <td>Arabic</td>\n",
       "    </tr>\n",
       "  </tbody>\n",
       "</table>\n",
       "</div>"
      ],
      "text/plain": [
       "     index   Index                        Sentence Scope Language_Type  \\\n",
       "5859   ara  331919                    ويل للكافرين     M             L   \n",
       "5860   ara  332182          متى أنشئت هذه الجامعة؟     M             L   \n",
       "5861   ara  332186                    أراها نادراً     M             L   \n",
       "5862   ara  332187  يعزف على البيانو بشكل جيد جداً     M             L   \n",
       "5863   ara  332191                  مع كل احترامي.     M             L   \n",
       "\n",
       "     Ref_Name  \n",
       "5859   Arabic  \n",
       "5860   Arabic  \n",
       "5861   Arabic  \n",
       "5862   Arabic  \n",
       "5863   Arabic  "
      ]
     },
     "execution_count": 6,
     "metadata": {},
     "output_type": "execute_result"
    }
   ],
   "source": [
    "top_languages_df = all_languages_codes_df[all_languages_codes_df['Ref_Name'].isin(top_languages)]\n",
    "top_languages_df.head()\n"
   ]
  },
  {
   "cell_type": "code",
   "execution_count": 7,
   "metadata": {},
   "outputs": [
    {
     "name": "stdout",
     "output_type": "stream",
     "text": [
      "Original DataSet:  (10219662, 6)\n",
      "Filtered DataSet:  (5555782, 6)\n"
     ]
    }
   ],
   "source": [
    "print('Original DataSet: ', all_languages_codes_df.shape)\n",
    "print('Filtered DataSet: ', top_languages_df.shape)"
   ]
  },
  {
   "cell_type": "code",
   "execution_count": 8,
   "metadata": {},
   "outputs": [
    {
     "data": {
      "text/plain": [
       "<matplotlib.axes._subplots.AxesSubplot at 0x7f99b4032850>"
      ]
     },
     "execution_count": 8,
     "metadata": {},
     "output_type": "execute_result"
    },
    {
     "data": {
      "image/png": "[encoded data removed]",
      "text/plain": [
       "<Figure size 432x288 with 1 Axes>"
      ]
     },
     "metadata": {
      "needs_background": "light"
     },
     "output_type": "display_data"
    }
   ],
   "source": [
    "# Bar chart of value counts - how many sentences for each language\n",
    "top_languages_df['Ref_Name'].value_counts()[:25]\\\n",
    "        .sort_values().plot(kind='barh')"
   ]
  },
  {
   "cell_type": "code",
   "execution_count": 9,
   "metadata": {},
   "outputs": [
    {
     "data": {
      "text/plain": [
       "English             1564640\n",
       "Russian              900863\n",
       "Italian              801269\n",
       "German               578833\n",
       "French               493072\n",
       "Portuguese           392730\n",
       "Spanish              366050\n",
       "Japanese             218246\n",
       "Mandarin Chinese      71952\n",
       "Marathi               68633\n",
       "Arabic                38384\n",
       "Vietnamese            20628\n",
       "Hindi                 14558\n",
       "Korean                 8906\n",
       "Yue Chinese            6200\n",
       "Bengali                4732\n",
       "Wu Chinese             4716\n",
       "Javanese                710\n",
       "Tamil                   334\n",
       "Telugu                  257\n",
       "Hausa                    69\n",
       "Name: Ref_Name, dtype: int64"
      ]
     },
     "execution_count": 9,
     "metadata": {},
     "output_type": "execute_result"
    }
   ],
   "source": [
    "top_languages_df['Ref_Name'].value_counts()[:25]"
   ]
  },
  {
   "cell_type": "code",
   "execution_count": 10,
   "metadata": {},
   "outputs": [
    {
     "data": {
      "text/plain": [
       "English             1564640\n",
       "Russian              900863\n",
       "Italian              801269\n",
       "Turkish              716418\n",
       "Esperanto            680054\n",
       "German               578833\n",
       "Kabyle               511111\n",
       "French               493072\n",
       "Portuguese           392730\n",
       "Spanish              366050\n",
       "Hungarian            351355\n",
       "Japanese             218246\n",
       "Hebrew               198105\n",
       "Ukrainian            177547\n",
       "Dutch                153405\n",
       "Finnish              138135\n",
       "Polish               115424\n",
       "Macedonian            77945\n",
       "Mandarin Chinese      71952\n",
       "Lithuanian            70906\n",
       "Marathi               68633\n",
       "Czech                 62881\n",
       "Danish                52592\n",
       "Serbian               45177\n",
       "Swedish               44210\n",
       "Name: Ref_Name, dtype: int64"
      ]
     },
     "execution_count": 10,
     "metadata": {},
     "output_type": "execute_result"
    }
   ],
   "source": [
    "all_languages_codes_df['Ref_Name'].value_counts()[:25].sort_values(ascending=False)#\\\n",
    "        #.sort_values().plot(kind='barh', figsize=(50,25))"
   ]
  },
  {
   "cell_type": "code",
   "execution_count": 11,
   "metadata": {},
   "outputs": [
    {
     "data": {
      "text/html": [
       "<div>\n",
       "<style scoped>\n",
       "    .dataframe tbody tr th:only-of-type {\n",
       "        vertical-align: middle;\n",
       "    }\n",
       "\n",
       "    .dataframe tbody tr th {\n",
       "        vertical-align: top;\n",
       "    }\n",
       "\n",
       "    .dataframe thead th {\n",
       "        text-align: right;\n",
       "    }\n",
       "</style>\n",
       "<table border=\"1\" class=\"dataframe\">\n",
       "  <thead>\n",
       "    <tr style=\"text-align: right;\">\n",
       "      <th></th>\n",
       "      <th>Sentence</th>\n",
       "      <th>Ref_Name</th>\n",
       "    </tr>\n",
       "  </thead>\n",
       "  <tbody>\n",
       "    <tr>\n",
       "      <th>5859</th>\n",
       "      <td>ويل للكافرين</td>\n",
       "      <td>Arabic</td>\n",
       "    </tr>\n",
       "    <tr>\n",
       "      <th>5860</th>\n",
       "      <td>متى أنشئت هذه الجامعة؟</td>\n",
       "      <td>Arabic</td>\n",
       "    </tr>\n",
       "    <tr>\n",
       "      <th>5861</th>\n",
       "      <td>أراها نادراً</td>\n",
       "      <td>Arabic</td>\n",
       "    </tr>\n",
       "    <tr>\n",
       "      <th>5862</th>\n",
       "      <td>يعزف على البيانو بشكل جيد جداً</td>\n",
       "      <td>Arabic</td>\n",
       "    </tr>\n",
       "    <tr>\n",
       "      <th>5863</th>\n",
       "      <td>مع كل احترامي.</td>\n",
       "      <td>Arabic</td>\n",
       "    </tr>\n",
       "  </tbody>\n",
       "</table>\n",
       "</div>"
      ],
      "text/plain": [
       "                            Sentence Ref_Name\n",
       "5859                    ويل للكافرين   Arabic\n",
       "5860          متى أنشئت هذه الجامعة؟   Arabic\n",
       "5861                    أراها نادراً   Arabic\n",
       "5862  يعزف على البيانو بشكل جيد جداً   Arabic\n",
       "5863                  مع كل احترامي.   Arabic"
      ]
     },
     "execution_count": 11,
     "metadata": {},
     "output_type": "execute_result"
    }
   ],
   "source": [
    "# Remove unneeded columns\n",
    "top_languages_df = top_languages_df.drop(['index','Index','Scope','Language_Type'], axis=1)\n",
    "top_languages_df.head()"
   ]
  },
  {
   "cell_type": "code",
   "execution_count": 12,
   "metadata": {},
   "outputs": [
    {
     "data": {
      "text/plain": [
       "(9660, 2)"
      ]
     },
     "execution_count": 12,
     "metadata": {},
     "output_type": "execute_result"
    }
   ],
   "source": [
    "# Go through each language, for languages with over 50,000 rows randomly sample 50,000 rows\n",
    "# Need to shrink the dataset since CountVecotrize overloads computer\n",
    "sample_lang_df = pd.DataFrame()\n",
    "for lang in top_languages:\n",
    "    df = top_languages_df[top_languages_df['Ref_Name'] == lang]\n",
    "    if(df['Ref_Name'].count() > 500):\n",
    "        sample_lang_df = sample_lang_df.append(df.sample(n=500))\n",
    "    else:\n",
    "        sample_lang_df = sample_lang_df.append(df)\n",
    "\n",
    "sample_lang_df.shape\n",
    "    "
   ]
  },
  {
   "cell_type": "code",
   "execution_count": 13,
   "metadata": {},
   "outputs": [],
   "source": [
    "x = sample_lang_df['Sentence']\n",
    "y = sample_lang_df['Ref_Name']"
   ]
  },
  {
   "cell_type": "code",
   "execution_count": 14,
   "metadata": {},
   "outputs": [
    {
     "name": "stderr",
     "output_type": "stream",
     "text": [
      "<ipython-input-14-7171dbafdbec>:7: FutureWarning: Possible nested set at position 1\n",
      "  text = re.sub(r'[[]]', ' ', text)\n"
     ]
    }
   ],
   "source": [
    "# Preprocess the data before doing Bag of Words\n",
    "import re\n",
    "preprocessed_data = []\n",
    "for text in x:\n",
    "    # remove symbols numbers and punctuation\n",
    "    text = re.sub(r'[!@#$(),.n\"%^*?:;~`0-9]', ' ', text)\n",
    "    text = re.sub(r'[[]]', ' ', text)\n",
    "    text = text.lower()\n",
    "    preprocessed_data.append(text)"
   ]
  },
  {
   "cell_type": "code",
   "execution_count": 15,
   "metadata": {},
   "outputs": [],
   "source": [
    "from sklearn.model_selection import train_test_split\n",
    "from sklearn.pipeline import Pipeline\n",
    "from sklearn.naive_bayes import MultinomialNB\n",
    "from sklearn.feature_extraction.text import CountVectorizer\n",
    "from sklearn.metrics import confusion_matrix,classification_report\n",
    "from sklearn.metrics import ConfusionMatrixDisplay"
   ]
  },
  {
   "cell_type": "code",
   "execution_count": 16,
   "metadata": {},
   "outputs": [],
   "source": [
    "# Split the data into train and test sets\n",
    "x_train, x_test, y_train, y_test = train_test_split(x, y, test_size=0.33, random_state=42)\n"
   ]
  },
  {
   "cell_type": "code",
   "execution_count": 17,
   "metadata": {},
   "outputs": [],
   "source": [
    "# Create count vectorizer that uses 2-char ngrams instead of words\n",
    "# Prevent an overwhelming number of features\n",
    "cv = CountVectorizer(analyzer='char', ngram_range=(2,2))\n",
    "\n",
    "pipeline = Pipeline([('vectorizer',cv), ('model',MultinomialNB())])"
   ]
  },
  {
   "cell_type": "code",
   "execution_count": 18,
   "metadata": {},
   "outputs": [],
   "source": [
    "# Fit the pipeline and calculate predictions\n",
    "pipeline.fit(x_train, y_train)\n",
    "y_pred = pipeline.predict(x_test)"
   ]
  },
  {
   "cell_type": "code",
   "execution_count": 31,
   "metadata": {},
   "outputs": [
    {
     "data": {
      "image/png": "[encoded data removed]",
      "text/plain": [
       "<Figure size 432x288 with 2 Axes>"
      ]
     },
     "metadata": {
      "needs_background": "light"
     },
     "output_type": "display_data"
    }
   ],
   "source": [
    "# Confusion matrix \n",
    "ConfusionMatrixDisplay.from_predictions(y_test, y_pred,\n",
    "                                        xticks_rotation='vertical',\n",
    "                                        include_values=False)\n",
    "plt.show()"
   ]
  },
  {
   "cell_type": "code",
   "execution_count": 20,
   "metadata": {},
   "outputs": [
    {
     "name": "stdout",
     "output_type": "stream",
     "text": [
      "                  precision    recall  f1-score   support\n",
      "\n",
      "          Arabic       1.00      1.00      1.00       159\n",
      "         Bengali       1.00      1.00      1.00       177\n",
      "         English       0.96      0.96      0.96       180\n",
      "          French       0.96      0.98      0.97       190\n",
      "          German       0.93      0.98      0.96       168\n",
      "           Hausa       0.00      0.00      0.00        30\n",
      "           Hindi       0.99      0.97      0.98       157\n",
      "         Italian       0.94      0.95      0.94       168\n",
      "        Japanese       1.00      0.99      1.00       179\n",
      "        Javanese       0.88      0.97      0.92       145\n",
      "          Korean       1.00      0.99      1.00       168\n",
      "Mandarin Chinese       0.83      0.75      0.79       165\n",
      "         Marathi       0.97      0.99      0.98       150\n",
      "      Portuguese       0.90      0.96      0.93       156\n",
      "         Russian       0.99      1.00      1.00       161\n",
      "         Spanish       0.93      0.92      0.93       181\n",
      "           Tamil       1.00      1.00      1.00       105\n",
      "          Telugu       1.00      1.00      1.00        73\n",
      "      Vietnamese       1.00      1.00      1.00       166\n",
      "      Wu Chinese       0.77      0.84      0.80       144\n",
      "     Yue Chinese       0.93      0.89      0.91       166\n",
      "\n",
      "        accuracy                           0.95      3188\n",
      "       macro avg       0.90      0.91      0.91      3188\n",
      "    weighted avg       0.94      0.95      0.94      3188\n",
      "\n"
     ]
    },
    {
     "name": "stderr",
     "output_type": "stream",
     "text": [
      "/Users/isabellasturm/opt/anaconda3/lib/python3.8/site-packages/sklearn/metrics/_classification.py:1318: UndefinedMetricWarning: Precision and F-score are ill-defined and being set to 0.0 in labels with no predicted samples. Use `zero_division` parameter to control this behavior.\n",
      "  _warn_prf(average, modifier, msg_start, len(result))\n",
      "/Users/isabellasturm/opt/anaconda3/lib/python3.8/site-packages/sklearn/metrics/_classification.py:1318: UndefinedMetricWarning: Precision and F-score are ill-defined and being set to 0.0 in labels with no predicted samples. Use `zero_division` parameter to control this behavior.\n",
      "  _warn_prf(average, modifier, msg_start, len(result))\n",
      "/Users/isabellasturm/opt/anaconda3/lib/python3.8/site-packages/sklearn/metrics/_classification.py:1318: UndefinedMetricWarning: Precision and F-score are ill-defined and being set to 0.0 in labels with no predicted samples. Use `zero_division` parameter to control this behavior.\n",
      "  _warn_prf(average, modifier, msg_start, len(result))\n"
     ]
    }
   ],
   "source": [
    "# Classification report\n",
    "print(classification_report(y_test, y_pred))"
   ]
  },
  {
   "cell_type": "code",
   "execution_count": 21,
   "metadata": {},
   "outputs": [
    {
     "name": "stdout",
     "output_type": "stream",
     "text": [
      "Sample Dataset Shape:  (1239387, 2)\n",
      "                  precision    recall  f1-score   support\n",
      "\n",
      "           Czech       0.90      0.98      0.94     16306\n",
      "          Danish       0.93      0.95      0.94     16612\n",
      "           Dutch       0.97      0.95      0.96     16566\n",
      "         English       0.95      0.98      0.96     16465\n",
      "       Esperanto       0.92      0.98      0.95     16401\n",
      "         Finnish       0.98      0.99      0.99     16486\n",
      "          French       0.98      0.98      0.98     16723\n",
      "          German       0.96      0.97      0.97     16384\n",
      "          Hebrew       1.00      1.00      1.00     16573\n",
      "       Hungarian       0.99      0.98      0.99     16557\n",
      "         Italian       0.95      0.96      0.95     16532\n",
      "        Japanese       1.00      1.00      1.00     16671\n",
      "          Kabyle       1.00      0.99      0.99     16368\n",
      "      Lithuanian       0.94      0.98      0.96     16425\n",
      "      Macedonian       0.70      0.98      0.81     16415\n",
      "Mandarin Chinese       1.00      1.00      1.00     16694\n",
      "         Marathi       1.00      1.00      1.00     16473\n",
      "          Polish       0.98      0.99      0.98     16271\n",
      "      Portuguese       0.94      0.95      0.95     16568\n",
      "         Russian       0.92      0.97      0.95     16268\n",
      "         Serbian       1.00      0.25      0.40     15050\n",
      "         Spanish       0.93      0.95      0.94     16512\n",
      "         Swedish       0.97      0.92      0.94     14671\n",
      "         Turkish       0.99      0.99      0.99     16524\n",
      "       Ukrainian       0.97      0.94      0.96     16483\n",
      "\n",
      "        accuracy                           0.95    408998\n",
      "       macro avg       0.95      0.95      0.94    408998\n",
      "    weighted avg       0.95      0.95      0.94    408998\n",
      "\n"
     ]
    }
   ],
   "source": [
    "# Train a second model using the top 25 list based on the dataset counts\n",
    "popular_languages = ['English', 'Russian', 'Italian',\n",
    "                     'Turkish', 'Esperanto', 'German', \n",
    "                     'Kabyle', 'French', 'Portuguese',\n",
    "                     'Spanish', 'Hungarian', 'Japanese',\n",
    "                     'Hebrew', 'Ukrainian', 'Dutch',\n",
    "                     'Finnish', 'Polish', 'Macedonian',\n",
    "                     'Mandarin Chinese', 'Lithuanian',\n",
    "                     'Marathi', 'Czech', 'Danish', \n",
    "                     'Serbian', 'Swedish']\n",
    "popular_languages_df = all_languages_codes_df[all_languages_codes_df['Ref_Name'].isin(popular_languages)]\n",
    "popular_languages_df = popular_languages_df.drop(['index', 'Index', 'Scope', 'Language_Type'], axis=1)\n",
    "\n",
    "# Undersample majority classes to even out the datasets\n",
    "sample_lang_df2 = pd.DataFrame()\n",
    "for lang in popular_languages:\n",
    "    df = popular_languages_df[popular_languages_df['Ref_Name'] == lang]\n",
    "    if(df['Ref_Name'].count() > 50000):\n",
    "        sample_lang_df2 = sample_lang_df2.append(df.sample(n=50000))\n",
    "    else:\n",
    "        sample_lang_df2 = sample_lang_df2.append(df)\n",
    "\n",
    "print('Sample Dataset Shape: ',sample_lang_df2.shape)\n",
    "\n",
    "x1 = sample_lang_df2['Sentence']\n",
    "y1 = sample_lang_df2['Ref_Name']\n",
    "\n",
    "# Pre-process the data\n",
    "preprocessed_data = []\n",
    "for text in x1:\n",
    "    # remove symbols numbers and punctuation\n",
    "    text = re.sub(r'[!@#$(),.n\"%^*?:;~`0-9]', ' ', text)\n",
    "    text = re.sub(r'[\\[\\]]', ' ', text)\n",
    "    text = text.lower()\n",
    "    preprocessed_data.append(text)\n",
    "    \n",
    "# Split the dataset\n",
    "x1_train, x1_test, y1_train, y1_test = train_test_split(x1, y1, test_size=0.33, random_state=42)\n",
    "\n",
    "# Create count vectorizer and model\n",
    "cv1 = CountVectorizer(analyzer='char', ngram_range=(2,2))\n",
    "pipeline1 = Pipeline([('vectorizer',cv1), ('model',MultinomialNB())])\n",
    "\n",
    "# Fit the pipline and calculate predictions\n",
    "pipeline1.fit(x1_train, y1_train)\n",
    "y1_pred = pipeline1.predict(x1_test)\n",
    "\n",
    "# Classification Report\n",
    "print(classification_report(y1_test, y1_pred))\n"
   ]
  },
  {
   "cell_type": "code",
   "execution_count": 30,
   "metadata": {},
   "outputs": [
    {
     "data": {
      "image/png": "[encoded data removed]",
      "text/plain": [
       "<Figure size 432x288 with 2 Axes>"
      ]
     },
     "metadata": {
      "needs_background": "light"
     },
     "output_type": "display_data"
    }
   ],
   "source": [
    "# Confusion Matrix\n",
    "ConfusionMatrixDisplay.from_predictions(y1_test, y1_pred,\n",
    "                                        xticks_rotation='vertical',\n",
    "                                        include_values=False)\n",
    "plt.show()"
   ]
  },
  {
   "cell_type": "code",
   "execution_count": null,
   "metadata": {},
   "outputs": [],
   "source": []
  }
 ],
 "metadata": {
  "kernelspec": {
   "display_name": "Python 3",
   "language": "python",
   "name": "python3"
  },
  "language_info": {
   "codemirror_mode": {
    "name": "ipython",
    "version": 3
   },
   "file_extension": ".py",
   "mimetype": "text/x-python",
   "name": "python",
   "nbconvert_exporter": "python",
   "pygments_lexer": "ipython3",
   "version": "3.8.3"
  }
 },
 "nbformat": 4,
 "nbformat_minor": 4
}
