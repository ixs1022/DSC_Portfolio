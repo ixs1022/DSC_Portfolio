{
 "cells": [
  {
   "cell_type": "code",
   "execution_count": 1,
   "metadata": {},
   "outputs": [],
   "source": [
    "# Isabella Sturm\n",
    "# DSC 680\n",
    "# Project 1: Heart Attack Analysis\n",
    "# 2021-12-13"
   ]
  },
  {
   "cell_type": "code",
   "execution_count": 2,
   "metadata": {},
   "outputs": [],
   "source": [
    "# Load packages for EDA\n",
    "import pandas as pd\n",
    "import matplotlib.pyplot as plt"
   ]
  },
  {
   "cell_type": "code",
   "execution_count": 3,
   "metadata": {},
   "outputs": [
    {
     "data": {
      "text/html": [
       "<div>\n",
       "<style scoped>\n",
       "    .dataframe tbody tr th:only-of-type {\n",
       "        vertical-align: middle;\n",
       "    }\n",
       "\n",
       "    .dataframe tbody tr th {\n",
       "        vertical-align: top;\n",
       "    }\n",
       "\n",
       "    .dataframe thead th {\n",
       "        text-align: right;\n",
       "    }\n",
       "</style>\n",
       "<table border=\"1\" class=\"dataframe\">\n",
       "  <thead>\n",
       "    <tr style=\"text-align: right;\">\n",
       "      <th></th>\n",
       "      <th>age</th>\n",
       "      <th>sex</th>\n",
       "      <th>chest pain type</th>\n",
       "      <th>resting bp s</th>\n",
       "      <th>cholesterol</th>\n",
       "      <th>fasting blood sugar</th>\n",
       "      <th>resting ecg</th>\n",
       "      <th>max heart rate</th>\n",
       "      <th>exercise angina</th>\n",
       "      <th>oldpeak</th>\n",
       "      <th>ST slope</th>\n",
       "      <th>target</th>\n",
       "    </tr>\n",
       "  </thead>\n",
       "  <tbody>\n",
       "    <tr>\n",
       "      <th>0</th>\n",
       "      <td>40</td>\n",
       "      <td>1</td>\n",
       "      <td>2</td>\n",
       "      <td>140</td>\n",
       "      <td>289</td>\n",
       "      <td>0</td>\n",
       "      <td>0</td>\n",
       "      <td>172</td>\n",
       "      <td>0</td>\n",
       "      <td>0.0</td>\n",
       "      <td>1</td>\n",
       "      <td>0</td>\n",
       "    </tr>\n",
       "    <tr>\n",
       "      <th>1</th>\n",
       "      <td>49</td>\n",
       "      <td>0</td>\n",
       "      <td>3</td>\n",
       "      <td>160</td>\n",
       "      <td>180</td>\n",
       "      <td>0</td>\n",
       "      <td>0</td>\n",
       "      <td>156</td>\n",
       "      <td>0</td>\n",
       "      <td>1.0</td>\n",
       "      <td>2</td>\n",
       "      <td>1</td>\n",
       "    </tr>\n",
       "    <tr>\n",
       "      <th>2</th>\n",
       "      <td>37</td>\n",
       "      <td>1</td>\n",
       "      <td>2</td>\n",
       "      <td>130</td>\n",
       "      <td>283</td>\n",
       "      <td>0</td>\n",
       "      <td>1</td>\n",
       "      <td>98</td>\n",
       "      <td>0</td>\n",
       "      <td>0.0</td>\n",
       "      <td>1</td>\n",
       "      <td>0</td>\n",
       "    </tr>\n",
       "    <tr>\n",
       "      <th>3</th>\n",
       "      <td>48</td>\n",
       "      <td>0</td>\n",
       "      <td>4</td>\n",
       "      <td>138</td>\n",
       "      <td>214</td>\n",
       "      <td>0</td>\n",
       "      <td>0</td>\n",
       "      <td>108</td>\n",
       "      <td>1</td>\n",
       "      <td>1.5</td>\n",
       "      <td>2</td>\n",
       "      <td>1</td>\n",
       "    </tr>\n",
       "    <tr>\n",
       "      <th>4</th>\n",
       "      <td>54</td>\n",
       "      <td>1</td>\n",
       "      <td>3</td>\n",
       "      <td>150</td>\n",
       "      <td>195</td>\n",
       "      <td>0</td>\n",
       "      <td>0</td>\n",
       "      <td>122</td>\n",
       "      <td>0</td>\n",
       "      <td>0.0</td>\n",
       "      <td>1</td>\n",
       "      <td>0</td>\n",
       "    </tr>\n",
       "  </tbody>\n",
       "</table>\n",
       "</div>"
      ],
      "text/plain": [
       "   age  sex  chest pain type  resting bp s  cholesterol  fasting blood sugar  \\\n",
       "0   40    1                2           140          289                    0   \n",
       "1   49    0                3           160          180                    0   \n",
       "2   37    1                2           130          283                    0   \n",
       "3   48    0                4           138          214                    0   \n",
       "4   54    1                3           150          195                    0   \n",
       "\n",
       "   resting ecg  max heart rate  exercise angina  oldpeak  ST slope  target  \n",
       "0            0             172                0      0.0         1       0  \n",
       "1            0             156                0      1.0         2       1  \n",
       "2            1              98                0      0.0         1       0  \n",
       "3            0             108                1      1.5         2       1  \n",
       "4            0             122                0      0.0         1       0  "
      ]
     },
     "execution_count": 3,
     "metadata": {},
     "output_type": "execute_result"
    }
   ],
   "source": [
    "# Load data\n",
    "heart_attack_df = pd.read_csv('heart_statlog_cleveland_hungary_final.csv')\n",
    "heart_attack_df.head()"
   ]
  },
  {
   "cell_type": "markdown",
   "metadata": {},
   "source": [
    "# Exploratory Data Analysis"
   ]
  },
  {
   "cell_type": "code",
   "execution_count": 6,
   "metadata": {},
   "outputs": [
    {
     "data": {
      "text/html": [
       "<div>\n",
       "<style scoped>\n",
       "    .dataframe tbody tr th:only-of-type {\n",
       "        vertical-align: middle;\n",
       "    }\n",
       "\n",
       "    .dataframe tbody tr th {\n",
       "        vertical-align: top;\n",
       "    }\n",
       "\n",
       "    .dataframe thead th {\n",
       "        text-align: right;\n",
       "    }\n",
       "</style>\n",
       "<table border=\"1\" class=\"dataframe\">\n",
       "  <thead>\n",
       "    <tr style=\"text-align: right;\">\n",
       "      <th></th>\n",
       "      <th>age</th>\n",
       "      <th>sex</th>\n",
       "      <th>chest pain type</th>\n",
       "      <th>resting bp s</th>\n",
       "      <th>cholesterol</th>\n",
       "      <th>fasting blood sugar</th>\n",
       "      <th>resting ecg</th>\n",
       "      <th>max heart rate</th>\n",
       "      <th>exercise angina</th>\n",
       "      <th>oldpeak</th>\n",
       "      <th>ST slope</th>\n",
       "      <th>target</th>\n",
       "    </tr>\n",
       "  </thead>\n",
       "  <tbody>\n",
       "    <tr>\n",
       "      <th>count</th>\n",
       "      <td>1190.000000</td>\n",
       "      <td>1190.000000</td>\n",
       "      <td>1190.000000</td>\n",
       "      <td>1190.000000</td>\n",
       "      <td>1190.000000</td>\n",
       "      <td>1190.000000</td>\n",
       "      <td>1190.000000</td>\n",
       "      <td>1190.000000</td>\n",
       "      <td>1190.000000</td>\n",
       "      <td>1190.000000</td>\n",
       "      <td>1190.000000</td>\n",
       "      <td>1190.000000</td>\n",
       "    </tr>\n",
       "    <tr>\n",
       "      <th>mean</th>\n",
       "      <td>53.720168</td>\n",
       "      <td>0.763866</td>\n",
       "      <td>3.232773</td>\n",
       "      <td>132.153782</td>\n",
       "      <td>210.363866</td>\n",
       "      <td>0.213445</td>\n",
       "      <td>0.698319</td>\n",
       "      <td>139.732773</td>\n",
       "      <td>0.387395</td>\n",
       "      <td>0.922773</td>\n",
       "      <td>1.624370</td>\n",
       "      <td>0.528571</td>\n",
       "    </tr>\n",
       "    <tr>\n",
       "      <th>std</th>\n",
       "      <td>9.358203</td>\n",
       "      <td>0.424884</td>\n",
       "      <td>0.935480</td>\n",
       "      <td>18.368823</td>\n",
       "      <td>101.420489</td>\n",
       "      <td>0.409912</td>\n",
       "      <td>0.870359</td>\n",
       "      <td>25.517636</td>\n",
       "      <td>0.487360</td>\n",
       "      <td>1.086337</td>\n",
       "      <td>0.610459</td>\n",
       "      <td>0.499393</td>\n",
       "    </tr>\n",
       "    <tr>\n",
       "      <th>min</th>\n",
       "      <td>28.000000</td>\n",
       "      <td>0.000000</td>\n",
       "      <td>1.000000</td>\n",
       "      <td>0.000000</td>\n",
       "      <td>0.000000</td>\n",
       "      <td>0.000000</td>\n",
       "      <td>0.000000</td>\n",
       "      <td>60.000000</td>\n",
       "      <td>0.000000</td>\n",
       "      <td>-2.600000</td>\n",
       "      <td>0.000000</td>\n",
       "      <td>0.000000</td>\n",
       "    </tr>\n",
       "    <tr>\n",
       "      <th>25%</th>\n",
       "      <td>47.000000</td>\n",
       "      <td>1.000000</td>\n",
       "      <td>3.000000</td>\n",
       "      <td>120.000000</td>\n",
       "      <td>188.000000</td>\n",
       "      <td>0.000000</td>\n",
       "      <td>0.000000</td>\n",
       "      <td>121.000000</td>\n",
       "      <td>0.000000</td>\n",
       "      <td>0.000000</td>\n",
       "      <td>1.000000</td>\n",
       "      <td>0.000000</td>\n",
       "    </tr>\n",
       "    <tr>\n",
       "      <th>50%</th>\n",
       "      <td>54.000000</td>\n",
       "      <td>1.000000</td>\n",
       "      <td>4.000000</td>\n",
       "      <td>130.000000</td>\n",
       "      <td>229.000000</td>\n",
       "      <td>0.000000</td>\n",
       "      <td>0.000000</td>\n",
       "      <td>140.500000</td>\n",
       "      <td>0.000000</td>\n",
       "      <td>0.600000</td>\n",
       "      <td>2.000000</td>\n",
       "      <td>1.000000</td>\n",
       "    </tr>\n",
       "    <tr>\n",
       "      <th>75%</th>\n",
       "      <td>60.000000</td>\n",
       "      <td>1.000000</td>\n",
       "      <td>4.000000</td>\n",
       "      <td>140.000000</td>\n",
       "      <td>269.750000</td>\n",
       "      <td>0.000000</td>\n",
       "      <td>2.000000</td>\n",
       "      <td>160.000000</td>\n",
       "      <td>1.000000</td>\n",
       "      <td>1.600000</td>\n",
       "      <td>2.000000</td>\n",
       "      <td>1.000000</td>\n",
       "    </tr>\n",
       "    <tr>\n",
       "      <th>max</th>\n",
       "      <td>77.000000</td>\n",
       "      <td>1.000000</td>\n",
       "      <td>4.000000</td>\n",
       "      <td>200.000000</td>\n",
       "      <td>603.000000</td>\n",
       "      <td>1.000000</td>\n",
       "      <td>2.000000</td>\n",
       "      <td>202.000000</td>\n",
       "      <td>1.000000</td>\n",
       "      <td>6.200000</td>\n",
       "      <td>3.000000</td>\n",
       "      <td>1.000000</td>\n",
       "    </tr>\n",
       "  </tbody>\n",
       "</table>\n",
       "</div>"
      ],
      "text/plain": [
       "               age          sex  chest pain type  resting bp s  cholesterol  \\\n",
       "count  1190.000000  1190.000000      1190.000000   1190.000000  1190.000000   \n",
       "mean     53.720168     0.763866         3.232773    132.153782   210.363866   \n",
       "std       9.358203     0.424884         0.935480     18.368823   101.420489   \n",
       "min      28.000000     0.000000         1.000000      0.000000     0.000000   \n",
       "25%      47.000000     1.000000         3.000000    120.000000   188.000000   \n",
       "50%      54.000000     1.000000         4.000000    130.000000   229.000000   \n",
       "75%      60.000000     1.000000         4.000000    140.000000   269.750000   \n",
       "max      77.000000     1.000000         4.000000    200.000000   603.000000   \n",
       "\n",
       "       fasting blood sugar  resting ecg  max heart rate  exercise angina  \\\n",
       "count          1190.000000  1190.000000     1190.000000      1190.000000   \n",
       "mean              0.213445     0.698319      139.732773         0.387395   \n",
       "std               0.409912     0.870359       25.517636         0.487360   \n",
       "min               0.000000     0.000000       60.000000         0.000000   \n",
       "25%               0.000000     0.000000      121.000000         0.000000   \n",
       "50%               0.000000     0.000000      140.500000         0.000000   \n",
       "75%               0.000000     2.000000      160.000000         1.000000   \n",
       "max               1.000000     2.000000      202.000000         1.000000   \n",
       "\n",
       "           oldpeak     ST slope       target  \n",
       "count  1190.000000  1190.000000  1190.000000  \n",
       "mean      0.922773     1.624370     0.528571  \n",
       "std       1.086337     0.610459     0.499393  \n",
       "min      -2.600000     0.000000     0.000000  \n",
       "25%       0.000000     1.000000     0.000000  \n",
       "50%       0.600000     2.000000     1.000000  \n",
       "75%       1.600000     2.000000     1.000000  \n",
       "max       6.200000     3.000000     1.000000  "
      ]
     },
     "execution_count": 6,
     "metadata": {},
     "output_type": "execute_result"
    }
   ],
   "source": [
    "heart_attack_df.describe()"
   ]
  },
  {
   "cell_type": "code",
   "execution_count": 10,
   "metadata": {},
   "outputs": [
    {
     "data": {
      "text/plain": [
       "age                    0\n",
       "sex                    0\n",
       "chest pain type        0\n",
       "resting bp s           0\n",
       "cholesterol            0\n",
       "fasting blood sugar    0\n",
       "resting ecg            0\n",
       "max heart rate         0\n",
       "exercise angina        0\n",
       "oldpeak                0\n",
       "ST slope               0\n",
       "target                 0\n",
       "dtype: int64"
      ]
     },
     "execution_count": 10,
     "metadata": {},
     "output_type": "execute_result"
    }
   ],
   "source": [
    "# Check for na values\n",
    "heart_attack_df.isna().sum()"
   ]
  },
  {
   "cell_type": "code",
   "execution_count": 12,
   "metadata": {},
   "outputs": [
    {
     "data": {
      "text/plain": [
       "(array([ 13.,  44., 110., 139., 191., 251., 233., 139.,  52.,  18.]),\n",
       " array([28. , 32.9, 37.8, 42.7, 47.6, 52.5, 57.4, 62.3, 67.2, 72.1, 77. ]),\n",
       " <a list of 10 Patch objects>)"
      ]
     },
     "execution_count": 12,
     "metadata": {},
     "output_type": "execute_result"
    },
    {
     "data": {
      "image/png": "[encoded data removed]",
      "text/plain": [
       "<Figure size 432x288 with 1 Axes>"
      ]
     },
     "metadata": {
      "needs_background": "light"
     },
     "output_type": "display_data"
    }
   ],
   "source": [
    "# Create histograms/bar chart of the features\n",
    "plt.hist(heart_attack_df['age'])"
   ]
  },
  {
   "cell_type": "code",
   "execution_count": 25,
   "metadata": {},
   "outputs": [
    {
     "data": {
      "text/plain": [
       "<matplotlib.axes._subplots.AxesSubplot at 0x7fad63984f70>"
      ]
     },
     "execution_count": 25,
     "metadata": {},
     "output_type": "execute_result"
    },
    {
     "data": {
      "image/png": "[encoded data removed]",
      "text/plain": [
       "<Figure size 432x288 with 1 Axes>"
      ]
     },
     "metadata": {
      "needs_background": "light"
     },
     "output_type": "display_data"
    }
   ],
   "source": [
    "heart_attack_df['sex'].value_counts().plot(kind='barh')"
   ]
  },
  {
   "cell_type": "code",
   "execution_count": 27,
   "metadata": {},
   "outputs": [
    {
     "data": {
      "text/plain": [
       "<matplotlib.axes._subplots.AxesSubplot at 0x7fad639c61f0>"
      ]
     },
     "execution_count": 27,
     "metadata": {},
     "output_type": "execute_result"
    },
    {
     "data": {
      "image/png": "[encoded data removed]",
      "text/plain": [
       "<Figure size 432x288 with 1 Axes>"
      ]
     },
     "metadata": {
      "needs_background": "light"
     },
     "output_type": "display_data"
    }
   ],
   "source": [
    "heart_attack_df['chest pain type'].value_counts().plot(kind='barh')"
   ]
  },
  {
   "cell_type": "code",
   "execution_count": 16,
   "metadata": {},
   "outputs": [
    {
     "data": {
      "text/plain": [
       "(array([  1.,   0.,   0.,   0.,  14., 204., 555., 300.,  91.,  25.]),\n",
       " array([  0.,  20.,  40.,  60.,  80., 100., 120., 140., 160., 180., 200.]),\n",
       " <a list of 10 Patch objects>)"
      ]
     },
     "execution_count": 16,
     "metadata": {},
     "output_type": "execute_result"
    },
    {
     "data": {
      "image/png": "[encoded data removed]",
      "text/plain": [
       "<Figure size 432x288 with 1 Axes>"
      ]
     },
     "metadata": {
      "needs_background": "light"
     },
     "output_type": "display_data"
    }
   ],
   "source": [
    "plt.hist(heart_attack_df['resting bp s'])"
   ]
  },
  {
   "cell_type": "code",
   "execution_count": 17,
   "metadata": {},
   "outputs": [
    {
     "data": {
      "text/plain": [
       "(array([172.,   6.,  88., 429., 351., 117.,  18.,   3.,   3.,   3.]),\n",
       " array([  0. ,  60.3, 120.6, 180.9, 241.2, 301.5, 361.8, 422.1, 482.4,\n",
       "        542.7, 603. ]),\n",
       " <a list of 10 Patch objects>)"
      ]
     },
     "execution_count": 17,
     "metadata": {},
     "output_type": "execute_result"
    },
    {
     "data": {
      "image/png": "[encoded data removed]",
      "text/plain": [
       "<Figure size 432x288 with 1 Axes>"
      ]
     },
     "metadata": {
      "needs_background": "light"
     },
     "output_type": "display_data"
    }
   ],
   "source": [
    "plt.hist(heart_attack_df['cholesterol'])"
   ]
  },
  {
   "cell_type": "code",
   "execution_count": 28,
   "metadata": {},
   "outputs": [
    {
     "data": {
      "text/plain": [
       "<matplotlib.axes._subplots.AxesSubplot at 0x7fad63d42e50>"
      ]
     },
     "execution_count": 28,
     "metadata": {},
     "output_type": "execute_result"
    },
    {
     "data": {
      "image/png": "[encoded data removed]",
      "text/plain": [
       "<Figure size 432x288 with 1 Axes>"
      ]
     },
     "metadata": {
      "needs_background": "light"
     },
     "output_type": "display_data"
    }
   ],
   "source": [
    "heart_attack_df['fasting blood sugar'].value_counts().plot(kind='barh')"
   ]
  },
  {
   "cell_type": "code",
   "execution_count": 35,
   "metadata": {},
   "outputs": [
    {
     "data": {
      "text/plain": [
       "<matplotlib.axes._subplots.AxesSubplot at 0x7fad6412b340>"
      ]
     },
     "execution_count": 35,
     "metadata": {},
     "output_type": "execute_result"
    },
    {
     "data": {
      "image/png": "[encoded data removed]",
      "text/plain": [
       "<Figure size 432x288 with 1 Axes>"
      ]
     },
     "metadata": {
      "needs_background": "light"
     },
     "output_type": "display_data"
    }
   ],
   "source": [
    "heart_attack_df['resting ecg'].value_counts().plot(kind='barh')"
   ]
  },
  {
   "cell_type": "code",
   "execution_count": 20,
   "metadata": {},
   "outputs": [
    {
     "data": {
      "text/plain": [
       "(array([ 10.,  19.,  67., 135., 222., 220., 208., 205.,  90.,  14.]),\n",
       " array([ 60. ,  74.2,  88.4, 102.6, 116.8, 131. , 145.2, 159.4, 173.6,\n",
       "        187.8, 202. ]),\n",
       " <a list of 10 Patch objects>)"
      ]
     },
     "execution_count": 20,
     "metadata": {},
     "output_type": "execute_result"
    },
    {
     "data": {
      "image/png": "[encoded data removed]",
      "text/plain": [
       "<Figure size 432x288 with 1 Axes>"
      ]
     },
     "metadata": {
      "needs_background": "light"
     },
     "output_type": "display_data"
    }
   ],
   "source": [
    "plt.hist(heart_attack_df['max heart rate'])"
   ]
  },
  {
   "cell_type": "code",
   "execution_count": 29,
   "metadata": {},
   "outputs": [
    {
     "data": {
      "text/plain": [
       "<matplotlib.axes._subplots.AxesSubplot at 0x7fad63dfe310>"
      ]
     },
     "execution_count": 29,
     "metadata": {},
     "output_type": "execute_result"
    },
    {
     "data": {
      "image/png": "[encoded data removed]",
      "text/plain": [
       "<Figure size 432x288 with 1 Axes>"
      ]
     },
     "metadata": {
      "needs_background": "light"
     },
     "output_type": "display_data"
    }
   ],
   "source": [
    "heart_attack_df['exercise angina'].value_counts().plot(kind='barh')"
   ]
  },
  {
   "cell_type": "code",
   "execution_count": 21,
   "metadata": {},
   "outputs": [
    {
     "data": {
      "text/plain": [
       "(array([  2.,   5., 461., 178., 304., 150.,  59.,  26.,   1.,   4.]),\n",
       " array([-2.6 , -1.72, -0.84,  0.04,  0.92,  1.8 ,  2.68,  3.56,  4.44,\n",
       "         5.32,  6.2 ]),\n",
       " <a list of 10 Patch objects>)"
      ]
     },
     "execution_count": 21,
     "metadata": {},
     "output_type": "execute_result"
    },
    {
     "data": {
      "image/png": "[encoded data removed]",
      "text/plain": [
       "<Figure size 432x288 with 1 Axes>"
      ]
     },
     "metadata": {
      "needs_background": "light"
     },
     "output_type": "display_data"
    }
   ],
   "source": [
    "plt.hist(heart_attack_df['oldpeak'])"
   ]
  },
  {
   "cell_type": "code",
   "execution_count": 30,
   "metadata": {},
   "outputs": [
    {
     "data": {
      "text/plain": [
       "<matplotlib.axes._subplots.AxesSubplot at 0x7fad63ebea00>"
      ]
     },
     "execution_count": 30,
     "metadata": {},
     "output_type": "execute_result"
    },
    {
     "data": {
      "image/png": "[encoded data removed]",
      "text/plain": [
       "<Figure size 432x288 with 1 Axes>"
      ]
     },
     "metadata": {
      "needs_background": "light"
     },
     "output_type": "display_data"
    }
   ],
   "source": [
    "heart_attack_df['ST slope'].value_counts().plot(kind='barh')"
   ]
  },
  {
   "cell_type": "code",
   "execution_count": 31,
   "metadata": {},
   "outputs": [
    {
     "data": {
      "text/plain": [
       "<matplotlib.axes._subplots.AxesSubplot at 0x7fad63ebea90>"
      ]
     },
     "execution_count": 31,
     "metadata": {},
     "output_type": "execute_result"
    },
    {
     "data": {
      "image/png": "[encoded data removed]",
      "text/plain": [
       "<Figure size 432x288 with 1 Axes>"
      ]
     },
     "metadata": {
      "needs_background": "light"
     },
     "output_type": "display_data"
    }
   ],
   "source": [
    "# Target counts break down\n",
    "heart_attack_df['target'].value_counts().plot(kind='barh')"
   ]
  },
  {
   "cell_type": "code",
   "execution_count": 34,
   "metadata": {},
   "outputs": [
    {
     "data": {
      "text/html": [
       "<div>\n",
       "<style scoped>\n",
       "    .dataframe tbody tr th:only-of-type {\n",
       "        vertical-align: middle;\n",
       "    }\n",
       "\n",
       "    .dataframe tbody tr th {\n",
       "        vertical-align: top;\n",
       "    }\n",
       "\n",
       "    .dataframe thead th {\n",
       "        text-align: right;\n",
       "    }\n",
       "</style>\n",
       "<table border=\"1\" class=\"dataframe\">\n",
       "  <thead>\n",
       "    <tr style=\"text-align: right;\">\n",
       "      <th></th>\n",
       "      <th>age</th>\n",
       "      <th>sex</th>\n",
       "      <th>chest pain type</th>\n",
       "      <th>resting bp s</th>\n",
       "      <th>cholesterol</th>\n",
       "      <th>fasting blood sugar</th>\n",
       "      <th>resting ecg</th>\n",
       "      <th>max heart rate</th>\n",
       "      <th>exercise angina</th>\n",
       "      <th>oldpeak</th>\n",
       "      <th>ST slope</th>\n",
       "      <th>target</th>\n",
       "    </tr>\n",
       "  </thead>\n",
       "  <tbody>\n",
       "    <tr>\n",
       "      <th>age</th>\n",
       "      <td>1.000000</td>\n",
       "      <td>0.015096</td>\n",
       "      <td>0.149055</td>\n",
       "      <td>0.257692</td>\n",
       "      <td>-0.046472</td>\n",
       "      <td>0.178923</td>\n",
       "      <td>0.194595</td>\n",
       "      <td>-0.368676</td>\n",
       "      <td>0.188095</td>\n",
       "      <td>0.245093</td>\n",
       "      <td>0.237749</td>\n",
       "      <td>0.262029</td>\n",
       "    </tr>\n",
       "    <tr>\n",
       "      <th>sex</th>\n",
       "      <td>0.015096</td>\n",
       "      <td>1.000000</td>\n",
       "      <td>0.138405</td>\n",
       "      <td>-0.006443</td>\n",
       "      <td>-0.208441</td>\n",
       "      <td>0.110961</td>\n",
       "      <td>-0.022225</td>\n",
       "      <td>-0.181837</td>\n",
       "      <td>0.194380</td>\n",
       "      <td>0.096390</td>\n",
       "      <td>0.127913</td>\n",
       "      <td>0.311267</td>\n",
       "    </tr>\n",
       "    <tr>\n",
       "      <th>chest pain type</th>\n",
       "      <td>0.149055</td>\n",
       "      <td>0.138405</td>\n",
       "      <td>1.000000</td>\n",
       "      <td>0.009466</td>\n",
       "      <td>-0.109396</td>\n",
       "      <td>0.076492</td>\n",
       "      <td>0.035705</td>\n",
       "      <td>-0.337491</td>\n",
       "      <td>0.403428</td>\n",
       "      <td>0.224106</td>\n",
       "      <td>0.276949</td>\n",
       "      <td>0.460127</td>\n",
       "    </tr>\n",
       "    <tr>\n",
       "      <th>resting bp s</th>\n",
       "      <td>0.257692</td>\n",
       "      <td>-0.006443</td>\n",
       "      <td>0.009466</td>\n",
       "      <td>1.000000</td>\n",
       "      <td>0.099037</td>\n",
       "      <td>0.088235</td>\n",
       "      <td>0.095860</td>\n",
       "      <td>-0.101357</td>\n",
       "      <td>0.142435</td>\n",
       "      <td>0.176111</td>\n",
       "      <td>0.089384</td>\n",
       "      <td>0.121415</td>\n",
       "    </tr>\n",
       "    <tr>\n",
       "      <th>cholesterol</th>\n",
       "      <td>-0.046472</td>\n",
       "      <td>-0.208441</td>\n",
       "      <td>-0.109396</td>\n",
       "      <td>0.099037</td>\n",
       "      <td>1.000000</td>\n",
       "      <td>-0.239778</td>\n",
       "      <td>0.150879</td>\n",
       "      <td>0.238028</td>\n",
       "      <td>-0.033261</td>\n",
       "      <td>0.057451</td>\n",
       "      <td>-0.100053</td>\n",
       "      <td>-0.198366</td>\n",
       "    </tr>\n",
       "    <tr>\n",
       "      <th>fasting blood sugar</th>\n",
       "      <td>0.178923</td>\n",
       "      <td>0.110961</td>\n",
       "      <td>0.076492</td>\n",
       "      <td>0.088235</td>\n",
       "      <td>-0.239778</td>\n",
       "      <td>1.000000</td>\n",
       "      <td>0.032124</td>\n",
       "      <td>-0.118689</td>\n",
       "      <td>0.053053</td>\n",
       "      <td>0.031193</td>\n",
       "      <td>0.145902</td>\n",
       "      <td>0.216695</td>\n",
       "    </tr>\n",
       "    <tr>\n",
       "      <th>resting ecg</th>\n",
       "      <td>0.194595</td>\n",
       "      <td>-0.022225</td>\n",
       "      <td>0.035705</td>\n",
       "      <td>0.095860</td>\n",
       "      <td>0.150879</td>\n",
       "      <td>0.032124</td>\n",
       "      <td>1.000000</td>\n",
       "      <td>0.058812</td>\n",
       "      <td>0.037821</td>\n",
       "      <td>0.126023</td>\n",
       "      <td>0.093629</td>\n",
       "      <td>0.073059</td>\n",
       "    </tr>\n",
       "    <tr>\n",
       "      <th>max heart rate</th>\n",
       "      <td>-0.368676</td>\n",
       "      <td>-0.181837</td>\n",
       "      <td>-0.337491</td>\n",
       "      <td>-0.101357</td>\n",
       "      <td>0.238028</td>\n",
       "      <td>-0.118689</td>\n",
       "      <td>0.058812</td>\n",
       "      <td>1.000000</td>\n",
       "      <td>-0.377691</td>\n",
       "      <td>-0.183688</td>\n",
       "      <td>-0.350750</td>\n",
       "      <td>-0.413278</td>\n",
       "    </tr>\n",
       "    <tr>\n",
       "      <th>exercise angina</th>\n",
       "      <td>0.188095</td>\n",
       "      <td>0.194380</td>\n",
       "      <td>0.403428</td>\n",
       "      <td>0.142435</td>\n",
       "      <td>-0.033261</td>\n",
       "      <td>0.053053</td>\n",
       "      <td>0.037821</td>\n",
       "      <td>-0.377691</td>\n",
       "      <td>1.000000</td>\n",
       "      <td>0.370772</td>\n",
       "      <td>0.393408</td>\n",
       "      <td>0.481467</td>\n",
       "    </tr>\n",
       "    <tr>\n",
       "      <th>oldpeak</th>\n",
       "      <td>0.245093</td>\n",
       "      <td>0.096390</td>\n",
       "      <td>0.224106</td>\n",
       "      <td>0.176111</td>\n",
       "      <td>0.057451</td>\n",
       "      <td>0.031193</td>\n",
       "      <td>0.126023</td>\n",
       "      <td>-0.183688</td>\n",
       "      <td>0.370772</td>\n",
       "      <td>1.000000</td>\n",
       "      <td>0.524639</td>\n",
       "      <td>0.398385</td>\n",
       "    </tr>\n",
       "    <tr>\n",
       "      <th>ST slope</th>\n",
       "      <td>0.237749</td>\n",
       "      <td>0.127913</td>\n",
       "      <td>0.276949</td>\n",
       "      <td>0.089384</td>\n",
       "      <td>-0.100053</td>\n",
       "      <td>0.145902</td>\n",
       "      <td>0.093629</td>\n",
       "      <td>-0.350750</td>\n",
       "      <td>0.393408</td>\n",
       "      <td>0.524639</td>\n",
       "      <td>1.000000</td>\n",
       "      <td>0.505608</td>\n",
       "    </tr>\n",
       "    <tr>\n",
       "      <th>target</th>\n",
       "      <td>0.262029</td>\n",
       "      <td>0.311267</td>\n",
       "      <td>0.460127</td>\n",
       "      <td>0.121415</td>\n",
       "      <td>-0.198366</td>\n",
       "      <td>0.216695</td>\n",
       "      <td>0.073059</td>\n",
       "      <td>-0.413278</td>\n",
       "      <td>0.481467</td>\n",
       "      <td>0.398385</td>\n",
       "      <td>0.505608</td>\n",
       "      <td>1.000000</td>\n",
       "    </tr>\n",
       "  </tbody>\n",
       "</table>\n",
       "</div>"
      ],
      "text/plain": [
       "                          age       sex  chest pain type  resting bp s  \\\n",
       "age                  1.000000  0.015096         0.149055      0.257692   \n",
       "sex                  0.015096  1.000000         0.138405     -0.006443   \n",
       "chest pain type      0.149055  0.138405         1.000000      0.009466   \n",
       "resting bp s         0.257692 -0.006443         0.009466      1.000000   \n",
       "cholesterol         -0.046472 -0.208441        -0.109396      0.099037   \n",
       "fasting blood sugar  0.178923  0.110961         0.076492      0.088235   \n",
       "resting ecg          0.194595 -0.022225         0.035705      0.095860   \n",
       "max heart rate      -0.368676 -0.181837        -0.337491     -0.101357   \n",
       "exercise angina      0.188095  0.194380         0.403428      0.142435   \n",
       "oldpeak              0.245093  0.096390         0.224106      0.176111   \n",
       "ST slope             0.237749  0.127913         0.276949      0.089384   \n",
       "target               0.262029  0.311267         0.460127      0.121415   \n",
       "\n",
       "                     cholesterol  fasting blood sugar  resting ecg  \\\n",
       "age                    -0.046472             0.178923     0.194595   \n",
       "sex                    -0.208441             0.110961    -0.022225   \n",
       "chest pain type        -0.109396             0.076492     0.035705   \n",
       "resting bp s            0.099037             0.088235     0.095860   \n",
       "cholesterol             1.000000            -0.239778     0.150879   \n",
       "fasting blood sugar    -0.239778             1.000000     0.032124   \n",
       "resting ecg             0.150879             0.032124     1.000000   \n",
       "max heart rate          0.238028            -0.118689     0.058812   \n",
       "exercise angina        -0.033261             0.053053     0.037821   \n",
       "oldpeak                 0.057451             0.031193     0.126023   \n",
       "ST slope               -0.100053             0.145902     0.093629   \n",
       "target                 -0.198366             0.216695     0.073059   \n",
       "\n",
       "                     max heart rate  exercise angina   oldpeak  ST slope  \\\n",
       "age                       -0.368676         0.188095  0.245093  0.237749   \n",
       "sex                       -0.181837         0.194380  0.096390  0.127913   \n",
       "chest pain type           -0.337491         0.403428  0.224106  0.276949   \n",
       "resting bp s              -0.101357         0.142435  0.176111  0.089384   \n",
       "cholesterol                0.238028        -0.033261  0.057451 -0.100053   \n",
       "fasting blood sugar       -0.118689         0.053053  0.031193  0.145902   \n",
       "resting ecg                0.058812         0.037821  0.126023  0.093629   \n",
       "max heart rate             1.000000        -0.377691 -0.183688 -0.350750   \n",
       "exercise angina           -0.377691         1.000000  0.370772  0.393408   \n",
       "oldpeak                   -0.183688         0.370772  1.000000  0.524639   \n",
       "ST slope                  -0.350750         0.393408  0.524639  1.000000   \n",
       "target                    -0.413278         0.481467  0.398385  0.505608   \n",
       "\n",
       "                       target  \n",
       "age                  0.262029  \n",
       "sex                  0.311267  \n",
       "chest pain type      0.460127  \n",
       "resting bp s         0.121415  \n",
       "cholesterol         -0.198366  \n",
       "fasting blood sugar  0.216695  \n",
       "resting ecg          0.073059  \n",
       "max heart rate      -0.413278  \n",
       "exercise angina      0.481467  \n",
       "oldpeak              0.398385  \n",
       "ST slope             0.505608  \n",
       "target               1.000000  "
      ]
     },
     "execution_count": 34,
     "metadata": {},
     "output_type": "execute_result"
    }
   ],
   "source": [
    "# Correlation matrix\n",
    "heart_attack_df.corr()"
   ]
  },
  {
   "cell_type": "code",
   "execution_count": 37,
   "metadata": {},
   "outputs": [
    {
     "data": {
      "image/png": "[encoded data removed]",
      "text/plain": [
       "<Figure size 432x288 with 1 Axes>"
      ]
     },
     "metadata": {
      "needs_background": "light"
     },
     "output_type": "display_data"
    }
   ],
   "source": [
    "# Boxplots of each numeric feature\n",
    "ax = heart_attack_df[['age','resting bp s', 'cholesterol', 'max heart rate', 'oldpeak']].plot(kind='box', showmeans=True)\n",
    "plt.show()\n"
   ]
  },
  {
   "cell_type": "code",
   "execution_count": 49,
   "metadata": {},
   "outputs": [
    {
     "name": "stdout",
     "output_type": "stream",
     "text": [
      "Empty DataFrame\n",
      "Columns: [age]\n",
      "Index: []\n",
      "      resting bp s\n",
      "109            190\n",
      "242            200\n",
      "366            200\n",
      "400            200\n",
      "593            190\n",
      "734            200\n",
      "761            192\n",
      "1013           200\n",
      "1075           192\n",
      "      cholesterol\n",
      "30            518\n",
      "76            529\n",
      "149           603\n",
      "618           564\n",
      "1039          564\n",
      "Empty DataFrame\n",
      "Columns: [max heart rate]\n",
      "Index: []\n",
      "      oldpeak\n",
      "167       5.0\n",
      "704       4.2\n",
      "773       5.6\n",
      "793       4.2\n",
      "852       6.2\n",
      "978       6.2\n",
      "1010      5.6\n",
      "1070      4.2\n",
      "1078      4.2\n",
      "1172      4.4\n"
     ]
    }
   ],
   "source": [
    "num_feats = ['age','resting bp s', 'cholesterol', 'max heart rate', 'oldpeak']\n",
    "\n",
    "for feature in num_feats:\n",
    "    feature_df = pd.DataFrame(heart_attack_df[feature])\n",
    "    outliers = feature_df[feature_df[feature] > (feature_df[feature].mean() + 3*heart_attack_df[feature].std())]\n",
    "    \n",
    "    print(outliers)\n",
    "    "
   ]
  },
  {
   "cell_type": "code",
   "execution_count": 51,
   "metadata": {},
   "outputs": [
    {
     "data": {
      "text/html": [
       "<div>\n",
       "<style scoped>\n",
       "    .dataframe tbody tr th:only-of-type {\n",
       "        vertical-align: middle;\n",
       "    }\n",
       "\n",
       "    .dataframe tbody tr th {\n",
       "        vertical-align: top;\n",
       "    }\n",
       "\n",
       "    .dataframe thead th {\n",
       "        text-align: right;\n",
       "    }\n",
       "</style>\n",
       "<table border=\"1\" class=\"dataframe\">\n",
       "  <thead>\n",
       "    <tr style=\"text-align: right;\">\n",
       "      <th></th>\n",
       "      <th>age</th>\n",
       "      <th>sex</th>\n",
       "      <th>chest pain type</th>\n",
       "      <th>resting bp s</th>\n",
       "      <th>cholesterol</th>\n",
       "      <th>fasting blood sugar</th>\n",
       "      <th>resting ecg</th>\n",
       "      <th>max heart rate</th>\n",
       "      <th>exercise angina</th>\n",
       "      <th>oldpeak</th>\n",
       "      <th>ST slope</th>\n",
       "      <th>target</th>\n",
       "    </tr>\n",
       "  </thead>\n",
       "  <tbody>\n",
       "    <tr>\n",
       "      <th>0</th>\n",
       "      <td>40</td>\n",
       "      <td>1</td>\n",
       "      <td>2</td>\n",
       "      <td>140</td>\n",
       "      <td>289</td>\n",
       "      <td>0</td>\n",
       "      <td>0</td>\n",
       "      <td>172</td>\n",
       "      <td>0</td>\n",
       "      <td>0.0</td>\n",
       "      <td>1</td>\n",
       "      <td>0</td>\n",
       "    </tr>\n",
       "    <tr>\n",
       "      <th>1</th>\n",
       "      <td>49</td>\n",
       "      <td>0</td>\n",
       "      <td>3</td>\n",
       "      <td>160</td>\n",
       "      <td>180</td>\n",
       "      <td>0</td>\n",
       "      <td>0</td>\n",
       "      <td>156</td>\n",
       "      <td>0</td>\n",
       "      <td>1.0</td>\n",
       "      <td>2</td>\n",
       "      <td>1</td>\n",
       "    </tr>\n",
       "    <tr>\n",
       "      <th>2</th>\n",
       "      <td>37</td>\n",
       "      <td>1</td>\n",
       "      <td>2</td>\n",
       "      <td>130</td>\n",
       "      <td>283</td>\n",
       "      <td>0</td>\n",
       "      <td>1</td>\n",
       "      <td>98</td>\n",
       "      <td>0</td>\n",
       "      <td>0.0</td>\n",
       "      <td>1</td>\n",
       "      <td>0</td>\n",
       "    </tr>\n",
       "    <tr>\n",
       "      <th>3</th>\n",
       "      <td>48</td>\n",
       "      <td>0</td>\n",
       "      <td>4</td>\n",
       "      <td>138</td>\n",
       "      <td>214</td>\n",
       "      <td>0</td>\n",
       "      <td>0</td>\n",
       "      <td>108</td>\n",
       "      <td>1</td>\n",
       "      <td>1.5</td>\n",
       "      <td>2</td>\n",
       "      <td>1</td>\n",
       "    </tr>\n",
       "    <tr>\n",
       "      <th>4</th>\n",
       "      <td>54</td>\n",
       "      <td>1</td>\n",
       "      <td>3</td>\n",
       "      <td>150</td>\n",
       "      <td>195</td>\n",
       "      <td>0</td>\n",
       "      <td>0</td>\n",
       "      <td>122</td>\n",
       "      <td>0</td>\n",
       "      <td>0.0</td>\n",
       "      <td>1</td>\n",
       "      <td>0</td>\n",
       "    </tr>\n",
       "  </tbody>\n",
       "</table>\n",
       "</div>"
      ],
      "text/plain": [
       "   age  sex  chest pain type  resting bp s  cholesterol  fasting blood sugar  \\\n",
       "0   40    1                2           140          289                    0   \n",
       "1   49    0                3           160          180                    0   \n",
       "2   37    1                2           130          283                    0   \n",
       "3   48    0                4           138          214                    0   \n",
       "4   54    1                3           150          195                    0   \n",
       "\n",
       "   resting ecg  max heart rate  exercise angina  oldpeak  ST slope  target  \n",
       "0            0             172                0      0.0         1       0  \n",
       "1            0             156                0      1.0         2       1  \n",
       "2            1              98                0      0.0         1       0  \n",
       "3            0             108                1      1.5         2       1  \n",
       "4            0             122                0      0.0         1       0  "
      ]
     },
     "execution_count": 51,
     "metadata": {},
     "output_type": "execute_result"
    }
   ],
   "source": [
    "# Remove the outliers\n",
    "num_feats = ['age','resting bp s', 'cholesterol', 'max heart rate', 'oldpeak']\n",
    "\n",
    "for feature in num_feats:\n",
    "    clean_df = heart_attack_df.drop(heart_attack_df[heart_attack_df[feature] > (heart_attack_df[feature].mean() + 3*heart_attack_df[feature].std())].index)\n",
    "    \n",
    "clean_df.head()"
   ]
  },
  {
   "cell_type": "code",
   "execution_count": 52,
   "metadata": {},
   "outputs": [
    {
     "data": {
      "text/plain": [
       "(1180, 12)"
      ]
     },
     "execution_count": 52,
     "metadata": {},
     "output_type": "execute_result"
    }
   ],
   "source": [
    "clean_df.shape"
   ]
  },
  {
   "cell_type": "code",
   "execution_count": 106,
   "metadata": {},
   "outputs": [
    {
     "data": {
      "text/html": [
       "<div>\n",
       "<style scoped>\n",
       "    .dataframe tbody tr th:only-of-type {\n",
       "        vertical-align: middle;\n",
       "    }\n",
       "\n",
       "    .dataframe tbody tr th {\n",
       "        vertical-align: top;\n",
       "    }\n",
       "\n",
       "    .dataframe thead th {\n",
       "        text-align: right;\n",
       "    }\n",
       "</style>\n",
       "<table border=\"1\" class=\"dataframe\">\n",
       "  <thead>\n",
       "    <tr style=\"text-align: right;\">\n",
       "      <th></th>\n",
       "      <th>age</th>\n",
       "      <th>sex</th>\n",
       "      <th>chest pain type</th>\n",
       "      <th>resting bp s</th>\n",
       "      <th>cholesterol</th>\n",
       "      <th>fasting blood sugar</th>\n",
       "      <th>resting ecg</th>\n",
       "      <th>max heart rate</th>\n",
       "      <th>exercise angina</th>\n",
       "      <th>oldpeak</th>\n",
       "      <th>ST slope</th>\n",
       "      <th>target</th>\n",
       "    </tr>\n",
       "  </thead>\n",
       "  <tbody>\n",
       "    <tr>\n",
       "      <th>age</th>\n",
       "      <td>1.000000</td>\n",
       "      <td>0.017444</td>\n",
       "      <td>0.151516</td>\n",
       "      <td>0.256036</td>\n",
       "      <td>-0.046417</td>\n",
       "      <td>0.180512</td>\n",
       "      <td>0.191895</td>\n",
       "      <td>-0.370261</td>\n",
       "      <td>0.192200</td>\n",
       "      <td>0.251695</td>\n",
       "      <td>0.235301</td>\n",
       "      <td>0.263164</td>\n",
       "    </tr>\n",
       "    <tr>\n",
       "      <th>sex</th>\n",
       "      <td>0.017444</td>\n",
       "      <td>1.000000</td>\n",
       "      <td>0.142355</td>\n",
       "      <td>-0.004790</td>\n",
       "      <td>-0.212975</td>\n",
       "      <td>0.111887</td>\n",
       "      <td>-0.018084</td>\n",
       "      <td>-0.180670</td>\n",
       "      <td>0.191765</td>\n",
       "      <td>0.105192</td>\n",
       "      <td>0.131127</td>\n",
       "      <td>0.314888</td>\n",
       "    </tr>\n",
       "    <tr>\n",
       "      <th>chest pain type</th>\n",
       "      <td>0.151516</td>\n",
       "      <td>0.142355</td>\n",
       "      <td>1.000000</td>\n",
       "      <td>0.016845</td>\n",
       "      <td>-0.109512</td>\n",
       "      <td>0.077922</td>\n",
       "      <td>0.041880</td>\n",
       "      <td>-0.337353</td>\n",
       "      <td>0.402254</td>\n",
       "      <td>0.230751</td>\n",
       "      <td>0.283339</td>\n",
       "      <td>0.455679</td>\n",
       "    </tr>\n",
       "    <tr>\n",
       "      <th>resting bp s</th>\n",
       "      <td>0.256036</td>\n",
       "      <td>-0.004790</td>\n",
       "      <td>0.016845</td>\n",
       "      <td>1.000000</td>\n",
       "      <td>0.098803</td>\n",
       "      <td>0.093139</td>\n",
       "      <td>0.088204</td>\n",
       "      <td>-0.102398</td>\n",
       "      <td>0.146722</td>\n",
       "      <td>0.158091</td>\n",
       "      <td>0.075431</td>\n",
       "      <td>0.123987</td>\n",
       "    </tr>\n",
       "    <tr>\n",
       "      <th>cholesterol</th>\n",
       "      <td>-0.046417</td>\n",
       "      <td>-0.212975</td>\n",
       "      <td>-0.109512</td>\n",
       "      <td>0.098803</td>\n",
       "      <td>1.000000</td>\n",
       "      <td>-0.238938</td>\n",
       "      <td>0.152426</td>\n",
       "      <td>0.239865</td>\n",
       "      <td>-0.034780</td>\n",
       "      <td>0.053213</td>\n",
       "      <td>-0.105671</td>\n",
       "      <td>-0.200197</td>\n",
       "    </tr>\n",
       "    <tr>\n",
       "      <th>fasting blood sugar</th>\n",
       "      <td>0.180512</td>\n",
       "      <td>0.111887</td>\n",
       "      <td>0.077922</td>\n",
       "      <td>0.093139</td>\n",
       "      <td>-0.238938</td>\n",
       "      <td>1.000000</td>\n",
       "      <td>0.033861</td>\n",
       "      <td>-0.120248</td>\n",
       "      <td>0.054389</td>\n",
       "      <td>0.050979</td>\n",
       "      <td>0.156309</td>\n",
       "      <td>0.220220</td>\n",
       "    </tr>\n",
       "    <tr>\n",
       "      <th>resting ecg</th>\n",
       "      <td>0.191895</td>\n",
       "      <td>-0.018084</td>\n",
       "      <td>0.041880</td>\n",
       "      <td>0.088204</td>\n",
       "      <td>0.152426</td>\n",
       "      <td>0.033861</td>\n",
       "      <td>1.000000</td>\n",
       "      <td>0.055679</td>\n",
       "      <td>0.045510</td>\n",
       "      <td>0.122310</td>\n",
       "      <td>0.087071</td>\n",
       "      <td>0.076008</td>\n",
       "    </tr>\n",
       "    <tr>\n",
       "      <th>max heart rate</th>\n",
       "      <td>-0.370261</td>\n",
       "      <td>-0.180670</td>\n",
       "      <td>-0.337353</td>\n",
       "      <td>-0.102398</td>\n",
       "      <td>0.239865</td>\n",
       "      <td>-0.120248</td>\n",
       "      <td>0.055679</td>\n",
       "      <td>1.000000</td>\n",
       "      <td>-0.375619</td>\n",
       "      <td>-0.186863</td>\n",
       "      <td>-0.353389</td>\n",
       "      <td>-0.412623</td>\n",
       "    </tr>\n",
       "    <tr>\n",
       "      <th>exercise angina</th>\n",
       "      <td>0.192200</td>\n",
       "      <td>0.191765</td>\n",
       "      <td>0.402254</td>\n",
       "      <td>0.146722</td>\n",
       "      <td>-0.034780</td>\n",
       "      <td>0.054389</td>\n",
       "      <td>0.045510</td>\n",
       "      <td>-0.375619</td>\n",
       "      <td>1.000000</td>\n",
       "      <td>0.390424</td>\n",
       "      <td>0.402343</td>\n",
       "      <td>0.481085</td>\n",
       "    </tr>\n",
       "    <tr>\n",
       "      <th>oldpeak</th>\n",
       "      <td>0.251695</td>\n",
       "      <td>0.105192</td>\n",
       "      <td>0.230751</td>\n",
       "      <td>0.158091</td>\n",
       "      <td>0.053213</td>\n",
       "      <td>0.050979</td>\n",
       "      <td>0.122310</td>\n",
       "      <td>-0.186863</td>\n",
       "      <td>0.390424</td>\n",
       "      <td>1.000000</td>\n",
       "      <td>0.506453</td>\n",
       "      <td>0.406035</td>\n",
       "    </tr>\n",
       "    <tr>\n",
       "      <th>ST slope</th>\n",
       "      <td>0.235301</td>\n",
       "      <td>0.131127</td>\n",
       "      <td>0.283339</td>\n",
       "      <td>0.075431</td>\n",
       "      <td>-0.105671</td>\n",
       "      <td>0.156309</td>\n",
       "      <td>0.087071</td>\n",
       "      <td>-0.353389</td>\n",
       "      <td>0.402343</td>\n",
       "      <td>0.506453</td>\n",
       "      <td>1.000000</td>\n",
       "      <td>0.509096</td>\n",
       "    </tr>\n",
       "    <tr>\n",
       "      <th>target</th>\n",
       "      <td>0.263164</td>\n",
       "      <td>0.314888</td>\n",
       "      <td>0.455679</td>\n",
       "      <td>0.123987</td>\n",
       "      <td>-0.200197</td>\n",
       "      <td>0.220220</td>\n",
       "      <td>0.076008</td>\n",
       "      <td>-0.412623</td>\n",
       "      <td>0.481085</td>\n",
       "      <td>0.406035</td>\n",
       "      <td>0.509096</td>\n",
       "      <td>1.000000</td>\n",
       "    </tr>\n",
       "  </tbody>\n",
       "</table>\n",
       "</div>"
      ],
      "text/plain": [
       "                          age       sex  chest pain type  resting bp s  \\\n",
       "age                  1.000000  0.017444         0.151516      0.256036   \n",
       "sex                  0.017444  1.000000         0.142355     -0.004790   \n",
       "chest pain type      0.151516  0.142355         1.000000      0.016845   \n",
       "resting bp s         0.256036 -0.004790         0.016845      1.000000   \n",
       "cholesterol         -0.046417 -0.212975        -0.109512      0.098803   \n",
       "fasting blood sugar  0.180512  0.111887         0.077922      0.093139   \n",
       "resting ecg          0.191895 -0.018084         0.041880      0.088204   \n",
       "max heart rate      -0.370261 -0.180670        -0.337353     -0.102398   \n",
       "exercise angina      0.192200  0.191765         0.402254      0.146722   \n",
       "oldpeak              0.251695  0.105192         0.230751      0.158091   \n",
       "ST slope             0.235301  0.131127         0.283339      0.075431   \n",
       "target               0.263164  0.314888         0.455679      0.123987   \n",
       "\n",
       "                     cholesterol  fasting blood sugar  resting ecg  \\\n",
       "age                    -0.046417             0.180512     0.191895   \n",
       "sex                    -0.212975             0.111887    -0.018084   \n",
       "chest pain type        -0.109512             0.077922     0.041880   \n",
       "resting bp s            0.098803             0.093139     0.088204   \n",
       "cholesterol             1.000000            -0.238938     0.152426   \n",
       "fasting blood sugar    -0.238938             1.000000     0.033861   \n",
       "resting ecg             0.152426             0.033861     1.000000   \n",
       "max heart rate          0.239865            -0.120248     0.055679   \n",
       "exercise angina        -0.034780             0.054389     0.045510   \n",
       "oldpeak                 0.053213             0.050979     0.122310   \n",
       "ST slope               -0.105671             0.156309     0.087071   \n",
       "target                 -0.200197             0.220220     0.076008   \n",
       "\n",
       "                     max heart rate  exercise angina   oldpeak  ST slope  \\\n",
       "age                       -0.370261         0.192200  0.251695  0.235301   \n",
       "sex                       -0.180670         0.191765  0.105192  0.131127   \n",
       "chest pain type           -0.337353         0.402254  0.230751  0.283339   \n",
       "resting bp s              -0.102398         0.146722  0.158091  0.075431   \n",
       "cholesterol                0.239865        -0.034780  0.053213 -0.105671   \n",
       "fasting blood sugar       -0.120248         0.054389  0.050979  0.156309   \n",
       "resting ecg                0.055679         0.045510  0.122310  0.087071   \n",
       "max heart rate             1.000000        -0.375619 -0.186863 -0.353389   \n",
       "exercise angina           -0.375619         1.000000  0.390424  0.402343   \n",
       "oldpeak                   -0.186863         0.390424  1.000000  0.506453   \n",
       "ST slope                  -0.353389         0.402343  0.506453  1.000000   \n",
       "target                    -0.412623         0.481085  0.406035  0.509096   \n",
       "\n",
       "                       target  \n",
       "age                  0.263164  \n",
       "sex                  0.314888  \n",
       "chest pain type      0.455679  \n",
       "resting bp s         0.123987  \n",
       "cholesterol         -0.200197  \n",
       "fasting blood sugar  0.220220  \n",
       "resting ecg          0.076008  \n",
       "max heart rate      -0.412623  \n",
       "exercise angina      0.481085  \n",
       "oldpeak              0.406035  \n",
       "ST slope             0.509096  \n",
       "target               1.000000  "
      ]
     },
     "execution_count": 106,
     "metadata": {},
     "output_type": "execute_result"
    }
   ],
   "source": [
    "clean_df.corr()"
   ]
  },
  {
   "cell_type": "markdown",
   "metadata": {},
   "source": [
    "## Data Modelling"
   ]
  },
  {
   "cell_type": "code",
   "execution_count": 58,
   "metadata": {},
   "outputs": [],
   "source": [
    "from sklearn.model_selection import train_test_split\n",
    "from sklearn.linear_model import LogisticRegression\n",
    "from sklearn.neighbors import KNeighborsClassifier\n",
    "from sklearn.tree import DecisionTreeClassifier\n",
    "from sklearn.ensemble import RandomForestClassifier\n",
    "from sklearn.metrics import plot_confusion_matrix\n",
    "from sklearn import metrics"
   ]
  },
  {
   "cell_type": "code",
   "execution_count": 56,
   "metadata": {},
   "outputs": [
    {
     "data": {
      "text/html": [
       "<div>\n",
       "<style scoped>\n",
       "    .dataframe tbody tr th:only-of-type {\n",
       "        vertical-align: middle;\n",
       "    }\n",
       "\n",
       "    .dataframe tbody tr th {\n",
       "        vertical-align: top;\n",
       "    }\n",
       "\n",
       "    .dataframe thead th {\n",
       "        text-align: right;\n",
       "    }\n",
       "</style>\n",
       "<table border=\"1\" class=\"dataframe\">\n",
       "  <thead>\n",
       "    <tr style=\"text-align: right;\">\n",
       "      <th></th>\n",
       "      <th>age</th>\n",
       "      <th>sex</th>\n",
       "      <th>chest pain type</th>\n",
       "      <th>resting bp s</th>\n",
       "      <th>cholesterol</th>\n",
       "      <th>fasting blood sugar</th>\n",
       "      <th>resting ecg</th>\n",
       "      <th>max heart rate</th>\n",
       "      <th>exercise angina</th>\n",
       "      <th>oldpeak</th>\n",
       "      <th>ST slope</th>\n",
       "    </tr>\n",
       "  </thead>\n",
       "  <tbody>\n",
       "    <tr>\n",
       "      <th>0</th>\n",
       "      <td>40</td>\n",
       "      <td>1</td>\n",
       "      <td>2</td>\n",
       "      <td>140</td>\n",
       "      <td>289</td>\n",
       "      <td>0</td>\n",
       "      <td>0</td>\n",
       "      <td>172</td>\n",
       "      <td>0</td>\n",
       "      <td>0.0</td>\n",
       "      <td>1</td>\n",
       "    </tr>\n",
       "    <tr>\n",
       "      <th>1</th>\n",
       "      <td>49</td>\n",
       "      <td>0</td>\n",
       "      <td>3</td>\n",
       "      <td>160</td>\n",
       "      <td>180</td>\n",
       "      <td>0</td>\n",
       "      <td>0</td>\n",
       "      <td>156</td>\n",
       "      <td>0</td>\n",
       "      <td>1.0</td>\n",
       "      <td>2</td>\n",
       "    </tr>\n",
       "    <tr>\n",
       "      <th>2</th>\n",
       "      <td>37</td>\n",
       "      <td>1</td>\n",
       "      <td>2</td>\n",
       "      <td>130</td>\n",
       "      <td>283</td>\n",
       "      <td>0</td>\n",
       "      <td>1</td>\n",
       "      <td>98</td>\n",
       "      <td>0</td>\n",
       "      <td>0.0</td>\n",
       "      <td>1</td>\n",
       "    </tr>\n",
       "    <tr>\n",
       "      <th>3</th>\n",
       "      <td>48</td>\n",
       "      <td>0</td>\n",
       "      <td>4</td>\n",
       "      <td>138</td>\n",
       "      <td>214</td>\n",
       "      <td>0</td>\n",
       "      <td>0</td>\n",
       "      <td>108</td>\n",
       "      <td>1</td>\n",
       "      <td>1.5</td>\n",
       "      <td>2</td>\n",
       "    </tr>\n",
       "    <tr>\n",
       "      <th>4</th>\n",
       "      <td>54</td>\n",
       "      <td>1</td>\n",
       "      <td>3</td>\n",
       "      <td>150</td>\n",
       "      <td>195</td>\n",
       "      <td>0</td>\n",
       "      <td>0</td>\n",
       "      <td>122</td>\n",
       "      <td>0</td>\n",
       "      <td>0.0</td>\n",
       "      <td>1</td>\n",
       "    </tr>\n",
       "  </tbody>\n",
       "</table>\n",
       "</div>"
      ],
      "text/plain": [
       "   age  sex  chest pain type  resting bp s  cholesterol  fasting blood sugar  \\\n",
       "0   40    1                2           140          289                    0   \n",
       "1   49    0                3           160          180                    0   \n",
       "2   37    1                2           130          283                    0   \n",
       "3   48    0                4           138          214                    0   \n",
       "4   54    1                3           150          195                    0   \n",
       "\n",
       "   resting ecg  max heart rate  exercise angina  oldpeak  ST slope  \n",
       "0            0             172                0      0.0         1  \n",
       "1            0             156                0      1.0         2  \n",
       "2            1              98                0      0.0         1  \n",
       "3            0             108                1      1.5         2  \n",
       "4            0             122                0      0.0         1  "
      ]
     },
     "execution_count": 56,
     "metadata": {},
     "output_type": "execute_result"
    }
   ],
   "source": [
    "feature_list = ['age','sex','chest pain type', 'resting bp s', 'cholesterol', 'fasting blood sugar','resting ecg','max heart rate', 'exercise angina', 'oldpeak', 'ST slope']\n",
    "clean_df[feature_list].head()\n"
   ]
  },
  {
   "cell_type": "code",
   "execution_count": 95,
   "metadata": {},
   "outputs": [],
   "source": [
    "# Split dataset into training and testing sets\n",
    "x = clean_df[feature_list]\n",
    "y = clean_df['target'].tolist()\n",
    "x_train, x_test, y_train, y_test = train_test_split(x, y, test_size=0.25)"
   ]
  },
  {
   "cell_type": "code",
   "execution_count": 96,
   "metadata": {},
   "outputs": [
    {
     "name": "stdout",
     "output_type": "stream",
     "text": [
      "0.8508474576271187\n",
      "Accuracy : 0.8508474576271187\n"
     ]
    }
   ],
   "source": [
    "# Logistic Regression Classifier\n",
    "log_reg = LogisticRegression(max_iter = 1000)\n",
    "log_reg.fit(x_train, y_train)\n",
    "pred = log_reg.predict(x_test)\n",
    "score= log_reg.score(x_test, y_test)\n",
    "print(score)\n",
    "print('Accuracy :', metrics.accuracy_score(y_test, pred))"
   ]
  },
  {
   "cell_type": "code",
   "execution_count": 97,
   "metadata": {},
   "outputs": [
    {
     "data": {
      "image/png": "[encoded data removed]",
      "text/plain": [
       "<Figure size 432x288 with 2 Axes>"
      ]
     },
     "metadata": {
      "needs_background": "light"
     },
     "output_type": "display_data"
    }
   ],
   "source": [
    "plot_confusion_matrix(log_reg, x_test, y_test)\n",
    "plt.show()"
   ]
  },
  {
   "cell_type": "code",
   "execution_count": 98,
   "metadata": {},
   "outputs": [
    {
     "name": "stdout",
     "output_type": "stream",
     "text": [
      "0.7559322033898305\n",
      "Accuracy:  0.7559322033898305\n"
     ]
    }
   ],
   "source": [
    "# KNN Classifier\n",
    "knn_classifier = KNeighborsClassifier(p=2) # Eclidean Distance\n",
    "knn_classifier.fit(x_train, y_train)\n",
    "knn_pred = knn_classifier.predict(x_test)\n",
    "knn_score = knn_classifier.score(x_test, y_test)\n",
    "print(knn_score)\n",
    "print('Accuracy: ', metrics.accuracy_score(y_test, knn_pred))"
   ]
  },
  {
   "cell_type": "code",
   "execution_count": 99,
   "metadata": {},
   "outputs": [
    {
     "data": {
      "image/png": "[encoded data removed]",
      "text/plain": [
       "<Figure size 432x288 with 2 Axes>"
      ]
     },
     "metadata": {
      "needs_background": "light"
     },
     "output_type": "display_data"
    }
   ],
   "source": [
    "plot_confusion_matrix(knn_classifier, x_test, y_test)\n",
    "plt.show()"
   ]
  },
  {
   "cell_type": "code",
   "execution_count": 100,
   "metadata": {},
   "outputs": [
    {
     "name": "stdout",
     "output_type": "stream",
     "text": [
      "0.8813559322033898\n",
      "Accuracy:  0.8813559322033898\n"
     ]
    }
   ],
   "source": [
    "# Decision Tree Model\n",
    "dt_classifier = DecisionTreeClassifier()\n",
    "dt_classifier.fit(x_train, y_train)\n",
    "dt_pred = dt_classifier.predict(x_test)\n",
    "dt_score = dt_classifier.score(x_test, y_test)\n",
    "print(dt_score)\n",
    "print('Accuracy: ', metrics.accuracy_score(y_test, dt_pred))"
   ]
  },
  {
   "cell_type": "code",
   "execution_count": 101,
   "metadata": {},
   "outputs": [
    {
     "name": "stdout",
     "output_type": "stream",
     "text": [
      "Depth:  14\n",
      "Num Leaves:  126\n"
     ]
    }
   ],
   "source": [
    "print(\"Depth: \",dt_classifier.get_depth())\n",
    "print('Num Leaves: ', dt_classifier.get_n_leaves())"
   ]
  },
  {
   "cell_type": "code",
   "execution_count": 102,
   "metadata": {},
   "outputs": [
    {
     "data": {
      "image/png": "[encoded data removed]",
      "text/plain": [
       "<Figure size 1800x1440 with 1 Axes>"
      ]
     },
     "metadata": {
      "needs_background": "light"
     },
     "output_type": "display_data"
    }
   ],
   "source": [
    "from sklearn import tree\n",
    "fig = plt.figure(figsize=(25,20))\n",
    "tree.plot_tree(dt_classifier, filled=True)\n",
    "fig.savefig(\"decision_tree.png\")"
   ]
  },
  {
   "cell_type": "code",
   "execution_count": 103,
   "metadata": {},
   "outputs": [
    {
     "data": {
      "image/png": "[encoded data removed]",
      "text/plain": [
       "<Figure size 432x288 with 2 Axes>"
      ]
     },
     "metadata": {
      "needs_background": "light"
     },
     "output_type": "display_data"
    }
   ],
   "source": [
    "plot_confusion_matrix(dt_classifier, x_test, y_test)\n",
    "plt.show()"
   ]
  },
  {
   "cell_type": "code",
   "execution_count": 104,
   "metadata": {},
   "outputs": [
    {
     "name": "stdout",
     "output_type": "stream",
     "text": [
      "0.9322033898305084\n",
      "Accuracy:  0.9322033898305084\n"
     ]
    }
   ],
   "source": [
    "# Random Forest\n",
    "rfc = RandomForestClassifier(random_state=0)\n",
    "rfc.fit(x_train, y_train)\n",
    "rfc_pred = rfc.predict(x_test)\n",
    "rfc_score = rfc.score(x_test, y_test)\n",
    "print(rfc_score)\n",
    "print(\"Accuracy: \", metrics.accuracy_score(y_test, rfc_pred))"
   ]
  },
  {
   "cell_type": "code",
   "execution_count": 105,
   "metadata": {},
   "outputs": [
    {
     "data": {
      "image/png": "[encoded data removed]",
      "text/plain": [
       "<Figure size 432x288 with 2 Axes>"
      ]
     },
     "metadata": {
      "needs_background": "light"
     },
     "output_type": "display_data"
    }
   ],
   "source": [
    "plot_confusion_matrix(rfc, x_test, y_test)\n",
    "plt.show()"
   ]
  },
  {
   "cell_type": "code",
   "execution_count": null,
   "metadata": {},
   "outputs": [],
   "source": []
  }
 ],
 "metadata": {
  "kernelspec": {
   "display_name": "Python 3",
   "language": "python",
   "name": "python3"
  },
  "language_info": {
   "codemirror_mode": {
    "name": "ipython",
    "version": 3
   },
   "file_extension": ".py",
   "mimetype": "text/x-python",
   "name": "python",
   "nbconvert_exporter": "python",
   "pygments_lexer": "ipython3",
   "version": "3.8.3"
  }
 },
 "nbformat": 4,
 "nbformat_minor": 4
}
